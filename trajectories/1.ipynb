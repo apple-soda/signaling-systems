{
 "cells": [
  {
   "cell_type": "code",
   "execution_count": 1,
   "id": "0ab729e2-549c-42aa-b6c4-8cb1c1564a94",
   "metadata": {},
   "outputs": [],
   "source": [
    "import os\n",
    "import pandas as pd\n",
    "import numpy as np\n",
    "import torch\n",
    "import torch.nn as nn\n",
    "import torch.nn.functional as F\n",
    "import matplotlib.pyplot as plt\n",
    "from sklearn.preprocessing import StandardScaler"
   ]
  },
  {
   "cell_type": "code",
   "execution_count": 2,
   "id": "880b7566-94be-4e0a-ae5f-8447b9adec3f",
   "metadata": {},
   "outputs": [
    {
     "data": {
      "text/plain": [
       "'C:\\\\Users\\\\minha\\\\Github\\\\signaling-systems\\\\trajectories'"
      ]
     },
     "execution_count": 2,
     "metadata": {},
     "output_type": "execute_result"
    }
   ],
   "source": [
    "os.getcwd()"
   ]
  },
  {
   "cell_type": "code",
   "execution_count": 3,
   "id": "e89d8f2f-fd33-4ca5-a509-61df63ec8360",
   "metadata": {},
   "outputs": [
    {
     "data": {
      "text/plain": [
       "['time_series_ktr_CpG_R1_Dose_6.csv',\n",
       " 'time_series_ktr_CpG_R2_Dose_6.csv',\n",
       " 'time_series_ktr_LPS_R1_Dose_6.csv',\n",
       " 'time_series_ktr_LPS_R2_Dose_6.csv',\n",
       " 'time_series_ktr_P3C4_R1_Dose_6.csv',\n",
       " 'time_series_ktr_P3C4_R2_Dose_6.csv',\n",
       " 'time_series_ktr_TNF_R1_Dose_6.csv',\n",
       " 'time_series_ktr_TNF_R2_Dose_6.csv']"
      ]
     },
     "execution_count": 3,
     "metadata": {},
     "output_type": "execute_result"
    }
   ],
   "source": [
    "os.listdir('D:\\\\Data\\\\hoffmanlab\\\\lstmtimeseries\\\\data2')"
   ]
  },
  {
   "cell_type": "code",
   "execution_count": 4,
   "id": "dd387722-6771-4443-baef-2a13c7d1e20c",
   "metadata": {},
   "outputs": [],
   "source": [
    "def create_dataset(path, file_names, label_list, remove_nans=True):\n",
    "    dataset, data, labels = [], [], []\n",
    "    # import pdb; pdb.set_trace()\n",
    "    for l, i in zip(label_list, file_names):\n",
    "        df = pd.read_csv(path + i, header=None)\n",
    "        num_features, num_data = df.columns[-1], len(df)\n",
    "        df[num_features + 1] = np.repeat(l, num_data) # add labels to the last column\n",
    "        npd = np.array(df)\n",
    "        dataset.append(npd)\n",
    "        data.append(npd[:, :num_features + 1])\n",
    "        labels.append(npd[:, num_features + 1])\n",
    "    \n",
    "    dataset = np.concatenate(dataset)\n",
    "    data = np.concatenate(data)\n",
    "    labels = np.concatenate(labels)\n",
    "    \n",
    "    if remove_nans:\n",
    "        non_nans = ~np.isnan(dataset).any(axis=1)\n",
    "        dataset = dataset[non_nans]\n",
    "        data = data[non_nans]\n",
    "        labels = labels[non_nans]\n",
    "    \n",
    "    assert len(data) == len(labels) == len(dataset)\n",
    "    \n",
    "    return dataset, data, labels"
   ]
  },
  {
   "cell_type": "code",
   "execution_count": 5,
   "id": "53aa8e29-6680-4f9a-b52c-f04b1e224e07",
   "metadata": {},
   "outputs": [],
   "source": [
    "dataset, data, labels = create_dataset('D:\\\\Data\\\\hoffmanlab\\\\lstmtimeseries\\\\data2\\\\', \n",
    "                                       os.listdir('D:\\\\Data\\\\hoffmanlab\\\\lstmtimeseries\\\\data2'), \n",
    "                                       [0, 0, 1, 1, 2, 2, 3, 3])"
   ]
  },
  {
   "cell_type": "code",
   "execution_count": 6,
   "id": "5cc981d6-dfa7-4f66-a5ac-1396ade042c6",
   "metadata": {},
   "outputs": [],
   "source": [
    "def standard_scale(data):\n",
    "    scaler = StandardScaler()\n",
    "    scaler.fit(data[:, :95])\n",
    "    data[:, :95] = scaler.transform(data[:, :95])\n",
    "    return data"
   ]
  },
  {
   "cell_type": "code",
   "execution_count": 7,
   "id": "2e33d398-e0aa-4c40-bda4-38b08ae1e90d",
   "metadata": {},
   "outputs": [
    {
     "name": "stdout",
     "output_type": "stream",
     "text": [
      "4018 4018 4018\n",
      "3616.2000000000003 401.8\n"
     ]
    }
   ],
   "source": [
    "print(len(dataset), len(data), len(labels))\n",
    "print(len(dataset) * 0.9, len(dataset) * 0.1)"
   ]
  },
  {
   "cell_type": "code",
   "execution_count": 8,
   "id": "89430271-d8c4-4fa5-b86d-ddb7969d71d4",
   "metadata": {},
   "outputs": [],
   "source": [
    "dataset = standard_scale(dataset)"
   ]
  },
  {
   "cell_type": "code",
   "execution_count": 9,
   "id": "2c96fc17-7497-498e-81fc-0e2045c308e1",
   "metadata": {},
   "outputs": [],
   "source": [
    "X, y = torch.utils.data.random_split(dataset, [3616, 402])\n",
    "trainloader = torch.utils.data.DataLoader(X, shuffle=True, batch_size=64)\n",
    "valloader = torch.utils.data.DataLoader(y, shuffle=True, batch_size=64)"
   ]
  },
  {
   "cell_type": "code",
   "execution_count": 40,
   "id": "c1f28c62-3bae-4c39-9225-11a9ae0fa695",
   "metadata": {},
   "outputs": [],
   "source": [
    "class TSC(nn.Module):\n",
    "    def __init__(self, input_dim, hidden_dim, output_dim, num_layers, linear_hd1, linear_hd2):\n",
    "        super().__init__()\n",
    "        \n",
    "        self.lstm = nn.LSTM(input_dim, hidden_dim, num_layers, batch_first=True)\n",
    "        # self.linear1 = nn.Linear(num_layers * hidden_dim, linear_hd1)\n",
    "        # self.linear2 = nn.Linear(linear_hd1, linear_hd2)\n",
    "        # self.linear3 = nn.Linear(linear_hd2, output_dim)\n",
    "        self.linear1 = nn.Linear(num_layers * hidden_dim, output_dim)\n",
    "        self.relu = nn.ReLU()\n",
    "        \n",
    "        torch.nn.init.orthogonal_(self.lstm.weight_ih_l0)\n",
    "        # torch.nn.init.orthogonal_(self.lstm.weight_ih_l1)\n",
    "        \n",
    "    def forward(self, x):\n",
    "        _, (h, c) = self.lstm(x)\n",
    "        h = h.permute(1, 0, 2).flatten(start_dim=1)\n",
    "        # out = self.linear3(self.linear2(self.linear1(h)))\n",
    "        out = self.linear1(h)\n",
    "        return out"
   ]
  },
  {
   "cell_type": "code",
   "execution_count": 49,
   "id": "b7254286-eb61-45ba-bcc3-ffd684ea4e89",
   "metadata": {},
   "outputs": [],
   "source": [
    "device = torch.device('cuda:0')\n",
    "model = TSC(input_dim=1, hidden_dim=95, output_dim=4, num_layers=1, linear_hd1=512, linear_hd2=256).to(device)\n",
    "model.train()\n",
    "optimizer = torch.optim.AdamW(model.parameters(), lr=1e-3)\n",
    "# lr_scheduler = torch.optim.lr_scheduler.ReduceLROnPlateau(optimizer)\n",
    "loss = nn.CrossEntropyLoss()"
   ]
  },
  {
   "cell_type": "code",
   "execution_count": 59,
   "id": "3f848354-2a38-4ba1-aab0-f4fafa3bcda3",
   "metadata": {},
   "outputs": [],
   "source": [
    "avg_epoch_t_loss = []\n",
    "avg_epoch_v_loss = []\n",
    "avg_t_loss = []\n",
    "avg_v_loss = []\n",
    "avg_acc = []"
   ]
  },
  {
   "cell_type": "code",
   "execution_count": 68,
   "id": "2f7470b6-3aaa-44cc-b097-8e1917b2afef",
   "metadata": {},
   "outputs": [
    {
     "data": {
      "text/plain": [
       "(array([  1,   2,   5,   8,   9,  12,  16,  18,  19,  22,  24,  29,  30,\n",
       "         31,  32,  35,  38,  41,  42,  43,  44,  45,  47,  50,  51,  53,\n",
       "         58,  59,  61,  63,  64,  67,  68,  69,  70,  72,  73,  77,  79,\n",
       "         80,  82,  83,  85,  87,  89,  90,  91,  92,  93,  94,  95,  97,\n",
       "         99, 100, 102, 103, 105, 106, 108, 109, 110, 111, 112, 115, 120,\n",
       "        122, 124, 126, 128, 129, 131, 132, 135, 137, 139, 140, 141, 143,\n",
       "        146, 148, 150, 151, 153, 155, 156, 157, 159, 160, 163, 165, 166,\n",
       "        169, 171, 173, 176, 178, 180, 181, 183, 185, 187, 190, 191, 193,\n",
       "        195, 198, 202, 203, 207, 209, 210, 212, 213, 214, 216, 218, 219,\n",
       "        221, 223, 225, 226, 228, 229, 231, 233, 234, 236, 238, 241, 243,\n",
       "        244, 246, 247, 249, 251, 252, 253, 256, 258, 260, 262, 264, 266,\n",
       "        268, 270, 275, 278, 280, 282, 283, 285, 286, 288, 291, 294, 296,\n",
       "        297, 301, 302, 303, 305, 307, 310, 311, 314, 315, 319, 320, 322,\n",
       "        324, 328, 329, 332, 333, 335, 336, 338, 339, 343, 344, 348, 350,\n",
       "        351, 354, 356, 358, 360, 365, 366, 368, 371, 372, 374, 375, 376,\n",
       "        378, 379, 380, 382, 387, 388, 391, 393, 394, 395, 397, 400, 401,\n",
       "        404, 406, 407, 410, 411, 413, 415, 416, 418, 421, 422, 424, 426,\n",
       "        427, 430, 431, 434, 435, 436, 438, 440, 442, 443], dtype=int64),)"
      ]
     },
     "execution_count": 68,
     "metadata": {},
     "output_type": "execute_result"
    }
   ],
   "source": [
    "np.where(np.diff(avg_epoch_v_loss) < 0)"
   ]
  },
  {
   "cell_type": "code",
   "execution_count": 63,
   "id": "97cd3a96-c824-4280-be3d-6f7668bae63d",
   "metadata": {},
   "outputs": [
    {
     "name": "stdout",
     "output_type": "stream",
     "text": [
      "Epoch: 0, Train Loss: 0.9578641057014465, Val Loss: 1.0194131135940552, Acc: 0.6765872836112976\n",
      "Epoch: 1, Train Loss: 0.9566251039505005, Val Loss: 1.018378734588623, Acc: 0.6924603581428528\n",
      "Epoch: 2, Train Loss: 0.9552866220474243, Val Loss: 1.0174596309661865, Acc: 0.6877480149269104\n",
      "Epoch: 3, Train Loss: 0.9539271593093872, Val Loss: 1.016663670539856, Acc: 0.6919642686843872\n",
      "Epoch: 4, Train Loss: 0.9525730013847351, Val Loss: 1.0159902572631836, Acc: 0.664434552192688\n",
      "Epoch: 5, Train Loss: 0.951278805732727, Val Loss: 1.0154742002487183, Acc: 0.6604662537574768\n",
      "Epoch: 6, Train Loss: 0.9499537944793701, Val Loss: 1.0145206451416016, Acc: 0.7237103581428528\n",
      "Epoch: 7, Train Loss: 0.9486398100852966, Val Loss: 1.0136710405349731, Acc: 0.6770833134651184\n",
      "Epoch: 8, Train Loss: 0.9473389387130737, Val Loss: 1.0130879878997803, Acc: 0.6753472089767456\n",
      "Epoch: 9, Train Loss: 0.9461128115653992, Val Loss: 1.0121972560882568, Acc: 0.69692462682724\n",
      "Epoch: 10, Train Loss: 0.9447743892669678, Val Loss: 1.0113959312438965, Acc: 0.7137896418571472\n",
      "Epoch: 11, Train Loss: 0.943412721157074, Val Loss: 1.0105576515197754, Acc: 0.6855158805847168\n",
      "Epoch: 12, Train Loss: 0.9420804381370544, Val Loss: 1.0100237131118774, Acc: 0.6676587462425232\n",
      "Epoch: 13, Train Loss: 0.9407851696014404, Val Loss: 1.0091756582260132, Acc: 0.7070932388305664\n",
      "Epoch: 14, Train Loss: 0.939495325088501, Val Loss: 1.0082767009735107, Acc: 0.7185019850730896\n",
      "Epoch: 15, Train Loss: 0.9382031559944153, Val Loss: 1.007830262184143, Acc: 0.663194477558136\n",
      "Epoch: 16, Train Loss: 0.9371822476387024, Val Loss: 1.007069706916809, Acc: 0.6669146418571472\n",
      "Epoch: 17, Train Loss: 0.9362279176712036, Val Loss: 1.006218671798706, Acc: 0.6914682388305664\n",
      "Epoch: 18, Train Loss: 0.9351385235786438, Val Loss: 1.0054759979248047, Acc: 0.674355149269104\n",
      "Epoch: 19, Train Loss: 0.934016764163971, Val Loss: 1.0046497583389282, Acc: 0.7036210298538208\n",
      "Epoch: 20, Train Loss: 0.9328707456588745, Val Loss: 1.0039986371994019, Acc: 0.658730149269104\n",
      "Epoch: 21, Train Loss: 0.9317157864570618, Val Loss: 1.0034395456314087, Acc: 0.6974206566810608\n",
      "Epoch: 22, Train Loss: 0.9305685758590698, Val Loss: 1.00255286693573, Acc: 0.726190447807312\n",
      "Epoch: 23, Train Loss: 0.9293788075447083, Val Loss: 1.0018434524536133, Acc: 0.6882439851760864\n",
      "Epoch: 24, Train Loss: 0.9282497763633728, Val Loss: 1.0014876127243042, Acc: 0.639384925365448\n",
      "Epoch: 25, Train Loss: 0.9270893931388855, Val Loss: 1.000841498374939, Acc: 0.6810516119003296\n",
      "Epoch: 26, Train Loss: 0.9258905053138733, Val Loss: 1.0005748271942139, Acc: 0.6684027910232544\n",
      "Epoch: 27, Train Loss: 0.9246600866317749, Val Loss: 0.9998152852058411, Acc: 0.6971725821495056\n",
      "Epoch: 28, Train Loss: 0.9237905740737915, Val Loss: 0.9990605711936951, Acc: 0.66245037317276\n",
      "Epoch: 29, Train Loss: 0.9229203462600708, Val Loss: 0.9983274340629578, Acc: 0.6684027910232544\n",
      "Epoch: 30, Train Loss: 0.9218884110450745, Val Loss: 0.9976560473442078, Acc: 0.678819477558136\n",
      "Epoch: 31, Train Loss: 0.920828104019165, Val Loss: 0.9970200061798096, Acc: 0.6857638955116272\n",
      "Epoch: 32, Train Loss: 0.9199509620666504, Val Loss: 0.9963590502738953, Acc: 0.694940447807312\n",
      "Epoch: 33, Train Loss: 0.9190936088562012, Val Loss: 0.9956151247024536, Acc: 0.6810516119003296\n",
      "Epoch: 34, Train Loss: 0.9180682897567749, Val Loss: 0.9947660565376282, Acc: 0.7016368508338928\n",
      "Epoch: 35, Train Loss: 0.9170040488243103, Val Loss: 0.9940973520278931, Acc: 0.6664186120033264\n",
      "Epoch: 36, Train Loss: 0.9159207940101624, Val Loss: 0.9933302402496338, Acc: 0.6847718358039856\n",
      "Epoch: 37, Train Loss: 0.914825439453125, Val Loss: 0.9926996827125549, Acc: 0.6698908805847168\n",
      "Epoch: 38, Train Loss: 0.9137331247329712, Val Loss: 0.991992712020874, Acc: 0.674355149269104\n",
      "Epoch: 39, Train Loss: 0.9126413464546204, Val Loss: 0.9914535284042358, Acc: 0.6641864776611328\n",
      "Epoch: 40, Train Loss: 0.9115614295005798, Val Loss: 0.990927517414093, Acc: 0.6892361044883728\n",
      "Epoch: 41, Train Loss: 0.9105372428894043, Val Loss: 0.9901960492134094, Acc: 0.6857638955116272\n",
      "Epoch: 42, Train Loss: 0.909447431564331, Val Loss: 0.9894404411315918, Acc: 0.6914682388305664\n",
      "Epoch: 43, Train Loss: 0.9084666967391968, Val Loss: 0.9887073040008545, Acc: 0.7016368508338928\n",
      "Epoch: 44, Train Loss: 0.9074079990386963, Val Loss: 0.9881808757781982, Acc: 0.6676587462425232\n",
      "Epoch: 45, Train Loss: 0.9063465595245361, Val Loss: 0.9875497221946716, Acc: 0.6790674924850464\n",
      "Epoch: 46, Train Loss: 0.9052988290786743, Val Loss: 0.986878514289856, Acc: 0.6879960298538208\n",
      "Epoch: 47, Train Loss: 0.9042419791221619, Val Loss: 0.9862582683563232, Acc: 0.6778274178504944\n",
      "Epoch: 48, Train Loss: 0.9031645655632019, Val Loss: 0.985753059387207, Acc: 0.6552578806877136\n",
      "Epoch: 49, Train Loss: 0.9020940661430359, Val Loss: 0.9854047894477844, Acc: 0.695684552192688\n",
      "Epoch: 50, Train Loss: 0.9009832739830017, Val Loss: 0.9849550127983093, Acc: 0.6597222089767456\n",
      "Epoch: 51, Train Loss: 0.8998710513114929, Val Loss: 0.9844500422477722, Acc: 0.66889888048172\n",
      "Epoch: 52, Train Loss: 0.8987762928009033, Val Loss: 0.984036922454834, Acc: 0.6527777910232544\n",
      "Epoch: 53, Train Loss: 0.8978214859962463, Val Loss: 0.9834242463111877, Acc: 0.6778274178504944\n",
      "Epoch: 54, Train Loss: 0.8968725800514221, Val Loss: 0.9828269481658936, Acc: 0.68452388048172\n",
      "Epoch: 55, Train Loss: 0.8958405256271362, Val Loss: 0.9821639060974121, Acc: 0.6736111044883728\n",
      "Epoch: 56, Train Loss: 0.894770085811615, Val Loss: 0.9815673828125, Acc: 0.6946924924850464\n",
      "Epoch: 57, Train Loss: 0.8936687707901001, Val Loss: 0.9810429811477661, Acc: 0.680059552192688\n",
      "Epoch: 58, Train Loss: 0.8925608992576599, Val Loss: 0.9806722402572632, Acc: 0.6721230149269104\n",
      "Epoch: 59, Train Loss: 0.8915120363235474, Val Loss: 0.9800881147384644, Acc: 0.68129962682724\n",
      "Epoch: 60, Train Loss: 0.8905258774757385, Val Loss: 0.9794432520866394, Acc: 0.7036210298538208\n",
      "Epoch: 61, Train Loss: 0.8894832730293274, Val Loss: 0.9789110422134399, Acc: 0.6822916865348816\n",
      "Epoch: 62, Train Loss: 0.8884058594703674, Val Loss: 0.9784632921218872, Acc: 0.6924603581428528\n",
      "Epoch: 63, Train Loss: 0.887313961982727, Val Loss: 0.978006899356842, Acc: 0.65302574634552\n",
      "Epoch: 64, Train Loss: 0.8862329125404358, Val Loss: 0.9773665070533752, Acc: 0.716269850730896\n",
      "Epoch: 65, Train Loss: 0.8851609230041504, Val Loss: 0.9770145416259766, Acc: 0.6790674924850464\n",
      "Epoch: 66, Train Loss: 0.8841248750686646, Val Loss: 0.9764930605888367, Acc: 0.6746031641960144\n",
      "Epoch: 67, Train Loss: 0.8830657601356506, Val Loss: 0.9758830070495605, Acc: 0.7073412537574768\n",
      "Epoch: 68, Train Loss: 0.8819779753684998, Val Loss: 0.9755362272262573, Acc: 0.6912202835083008\n",
      "Epoch: 69, Train Loss: 0.8811139464378357, Val Loss: 0.9751776456832886, Acc: 0.678819477558136\n",
      "Epoch: 70, Train Loss: 0.8801460862159729, Val Loss: 0.9747108817100525, Acc: 0.6946924924850464\n",
      "Epoch: 71, Train Loss: 0.8791412711143494, Val Loss: 0.9742594957351685, Acc: 0.674355149269104\n",
      "Epoch: 72, Train Loss: 0.8782649636268616, Val Loss: 0.9739016890525818, Acc: 0.66889888048172\n",
      "Epoch: 73, Train Loss: 0.8772881031036377, Val Loss: 0.9737133383750916, Acc: 0.66889888048172\n",
      "Epoch: 74, Train Loss: 0.8762714862823486, Val Loss: 0.9734580516815186, Acc: 0.6498016119003296\n",
      "Epoch: 75, Train Loss: 0.875248908996582, Val Loss: 0.9729639887809753, Acc: 0.711805522441864\n",
      "Epoch: 76, Train Loss: 0.8741896748542786, Val Loss: 0.9726200103759766, Acc: 0.6641864776611328\n",
      "Epoch: 77, Train Loss: 0.8731244206428528, Val Loss: 0.9724733829498291, Acc: 0.6746031641960144\n",
      "Epoch: 78, Train Loss: 0.8721388578414917, Val Loss: 0.9723405838012695, Acc: 0.674355149269104\n",
      "Epoch: 79, Train Loss: 0.8711370229721069, Val Loss: 0.9719653129577637, Acc: 0.6914682388305664\n",
      "Epoch: 80, Train Loss: 0.8703213334083557, Val Loss: 0.9719507694244385, Acc: 0.6654266119003296\n",
      "Epoch: 81, Train Loss: 0.869435727596283, Val Loss: 0.9715595841407776, Acc: 0.6832837462425232\n",
      "Epoch: 82, Train Loss: 0.8684695959091187, Val Loss: 0.971065104007721, Acc: 0.7073412537574768\n",
      "Epoch: 83, Train Loss: 0.8674980401992798, Val Loss: 0.9706286191940308, Acc: 0.6946924924850464\n",
      "Epoch: 84, Train Loss: 0.866495668888092, Val Loss: 0.9703864455223083, Acc: 0.6619543433189392\n",
      "Epoch: 85, Train Loss: 0.8654771447181702, Val Loss: 0.9700924158096313, Acc: 0.65302574634552\n",
      "Epoch: 86, Train Loss: 0.8644530773162842, Val Loss: 0.9698089957237244, Acc: 0.66889888048172\n",
      "Epoch: 87, Train Loss: 0.8634754419326782, Val Loss: 0.9694889187812805, Acc: 0.6579861044883728\n",
      "Epoch: 88, Train Loss: 0.8625272512435913, Val Loss: 0.9693178534507751, Acc: 0.658730149269104\n",
      "Epoch: 89, Train Loss: 0.8616056442260742, Val Loss: 0.9689875245094299, Acc: 0.6770833134651184\n",
      "Epoch: 90, Train Loss: 0.8606200218200684, Val Loss: 0.9687815308570862, Acc: 0.674355149269104\n",
      "Epoch: 91, Train Loss: 0.8596156239509583, Val Loss: 0.9683920741081238, Acc: 0.6927083134651184\n",
      "Epoch: 92, Train Loss: 0.8586161732673645, Val Loss: 0.9681267142295837, Acc: 0.6666666865348816\n",
      "Epoch: 93, Train Loss: 0.8575979471206665, Val Loss: 0.9679344892501831, Acc: 0.6641864776611328\n",
      "Epoch: 94, Train Loss: 0.8566488027572632, Val Loss: 0.9678720831871033, Acc: 0.65004962682724\n",
      "Epoch: 95, Train Loss: 0.8556580543518066, Val Loss: 0.9678353071212769, Acc: 0.663194477558136\n",
      "Epoch: 96, Train Loss: 0.8546731472015381, Val Loss: 0.9677321314811707, Acc: 0.6564980149269104\n",
      "Epoch: 97, Train Loss: 0.8536703586578369, Val Loss: 0.9674009084701538, Acc: 0.6778274178504944\n",
      "Epoch: 98, Train Loss: 0.8527069687843323, Val Loss: 0.9671782851219177, Acc: 0.6577381491661072\n",
      "Epoch: 99, Train Loss: 0.8517665266990662, Val Loss: 0.9668991565704346, Acc: 0.6857638955116272\n",
      "Epoch: 100, Train Loss: 0.8507973551750183, Val Loss: 0.9667375087738037, Acc: 0.6810516119003296\n",
      "Epoch: 101, Train Loss: 0.8498063683509827, Val Loss: 0.9665907025337219, Acc: 0.6599702835083008\n",
      "Epoch: 102, Train Loss: 0.848831295967102, Val Loss: 0.9664193987846375, Acc: 0.6557539701461792\n",
      "Epoch: 103, Train Loss: 0.8478568196296692, Val Loss: 0.9660535454750061, Acc: 0.6892361044883728\n",
      "Epoch: 104, Train Loss: 0.846868634223938, Val Loss: 0.9660662412643433, Acc: 0.673115074634552\n",
      "Epoch: 105, Train Loss: 0.8460041880607605, Val Loss: 0.9660132527351379, Acc: 0.6612103581428528\n",
      "Epoch: 106, Train Loss: 0.8450701236724854, Val Loss: 0.965735912322998, Acc: 0.680059552192688\n",
      "Epoch: 107, Train Loss: 0.8440958857536316, Val Loss: 0.9654244184494019, Acc: 0.66889888048172\n",
      "Epoch: 108, Train Loss: 0.843098521232605, Val Loss: 0.96534264087677, Acc: 0.6666666865348816\n",
      "Epoch: 109, Train Loss: 0.8421469330787659, Val Loss: 0.965111494064331, Acc: 0.696180522441864\n",
      "Epoch: 110, Train Loss: 0.8412489891052246, Val Loss: 0.9648547768592834, Acc: 0.7070932388305664\n",
      "Epoch: 111, Train Loss: 0.8407765626907349, Val Loss: 0.9645448327064514, Acc: 0.7083333134651184\n",
      "Epoch: 112, Train Loss: 0.8399502635002136, Val Loss: 0.9643481969833374, Acc: 0.6619543433189392\n",
      "Epoch: 113, Train Loss: 0.8390520215034485, Val Loss: 0.9640107154846191, Acc: 0.6857638955116272\n",
      "Epoch: 114, Train Loss: 0.8381242752075195, Val Loss: 0.9637246131896973, Acc: 0.6946924924850464\n",
      "Epoch: 115, Train Loss: 0.8371602296829224, Val Loss: 0.9635395407676697, Acc: 0.66889888048172\n",
      "Epoch: 116, Train Loss: 0.8362507224082947, Val Loss: 0.9633597731590271, Acc: 0.6914682388305664\n",
      "Epoch: 117, Train Loss: 0.835288941860199, Val Loss: 0.9633082747459412, Acc: 0.6666666865348816\n",
      "Epoch: 118, Train Loss: 0.834328293800354, Val Loss: 0.9631440043449402, Acc: 0.6723710298538208\n",
      "Epoch: 119, Train Loss: 0.8333902955055237, Val Loss: 0.9629591703414917, Acc: 0.6746031641960144\n",
      "Epoch: 120, Train Loss: 0.8324636220932007, Val Loss: 0.9628280401229858, Acc: 0.6364087462425232\n",
      "Epoch: 121, Train Loss: 0.8314858078956604, Val Loss: 0.9629793763160706, Acc: 0.6463293433189392\n",
      "Epoch: 122, Train Loss: 0.8304935693740845, Val Loss: 0.9630348086357117, Acc: 0.6428571343421936\n",
      "Epoch: 123, Train Loss: 0.8294917941093445, Val Loss: 0.9631900191307068, Acc: 0.633680522441864\n",
      "Epoch: 124, Train Loss: 0.8285117745399475, Val Loss: 0.9633089303970337, Acc: 0.6698908805847168\n",
      "Epoch: 125, Train Loss: 0.8275133371353149, Val Loss: 0.9632894396781921, Acc: 0.6696428656578064\n",
      "Epoch: 126, Train Loss: 0.826622486114502, Val Loss: 0.9632303714752197, Acc: 0.6902281641960144\n",
      "Epoch: 127, Train Loss: 0.8257144093513489, Val Loss: 0.9636655449867249, Acc: 0.647569477558136\n",
      "Epoch: 128, Train Loss: 0.8249308466911316, Val Loss: 0.9634244441986084, Acc: 0.6882439851760864\n",
      "Epoch: 129, Train Loss: 0.8240805864334106, Val Loss: 0.9634251594543457, Acc: 0.6364087462425232\n",
      "Epoch: 130, Train Loss: 0.8231984972953796, Val Loss: 0.9635647535324097, Acc: 0.657490074634552\n",
      "Epoch: 131, Train Loss: 0.8222470879554749, Val Loss: 0.9636569619178772, Acc: 0.6622024178504944\n",
      "Epoch: 132, Train Loss: 0.8212713599205017, Val Loss: 0.9635183811187744, Acc: 0.6701388955116272\n",
      "Epoch: 133, Train Loss: 0.8203201293945312, Val Loss: 0.9634840488433838, Acc: 0.63740074634552\n",
      "Epoch: 134, Train Loss: 0.8193597197532654, Val Loss: 0.9634721279144287, Acc: 0.664434552192688\n",
      "Epoch: 135, Train Loss: 0.8184449076652527, Val Loss: 0.9634382128715515, Acc: 0.6768353581428528\n",
      "Epoch: 136, Train Loss: 0.8175252079963684, Val Loss: 0.9637265801429749, Acc: 0.6708828806877136\n",
      "Epoch: 137, Train Loss: 0.8165990114212036, Val Loss: 0.9637102484703064, Acc: 0.6822916865348816\n",
      "Epoch: 138, Train Loss: 0.8156216144561768, Val Loss: 0.963567316532135, Acc: 0.6981646418571472\n",
      "Epoch: 139, Train Loss: 0.8146264553070068, Val Loss: 0.9636124968528748, Acc: 0.6654266119003296\n",
      "Epoch: 140, Train Loss: 0.8136207461357117, Val Loss: 0.9637409448623657, Acc: 0.6765872836112976\n",
      "Epoch: 141, Train Loss: 0.8126330375671387, Val Loss: 0.9638165831565857, Acc: 0.680059552192688\n",
      "Epoch: 142, Train Loss: 0.8116286396980286, Val Loss: 0.96375972032547, Acc: 0.6912202835083008\n",
      "Epoch: 143, Train Loss: 0.8106468915939331, Val Loss: 0.9638370275497437, Acc: 0.6867560148239136\n",
      "Epoch: 144, Train Loss: 0.8097511529922485, Val Loss: 0.9636767506599426, Acc: 0.700644850730896\n",
      "Epoch: 145, Train Loss: 0.8087998032569885, Val Loss: 0.9639236927032471, Acc: 0.6542658805847168\n",
      "Epoch: 146, Train Loss: 0.8078920841217041, Val Loss: 0.9638856053352356, Acc: 0.6835317611694336\n",
      "Epoch: 147, Train Loss: 0.8069323897361755, Val Loss: 0.9638239741325378, Acc: 0.6746031641960144\n",
      "Epoch: 148, Train Loss: 0.8060595989227295, Val Loss: 0.9638698697090149, Acc: 0.6622024178504944\n",
      "Epoch: 149, Train Loss: 0.8051568269729614, Val Loss: 0.963870108127594, Acc: 0.6733631491661072\n",
      "Epoch: 150, Train Loss: 0.8042518496513367, Val Loss: 0.9639859199523926, Acc: 0.674355149269104\n",
      "Epoch: 151, Train Loss: 0.8032809495925903, Val Loss: 0.9641510248184204, Acc: 0.6589781641960144\n",
      "Epoch: 152, Train Loss: 0.8023397326469421, Val Loss: 0.9642506241798401, Acc: 0.678819477558136\n",
      "Epoch: 153, Train Loss: 0.8014279007911682, Val Loss: 0.9643408060073853, Acc: 0.6641864776611328\n",
      "Epoch: 154, Train Loss: 0.8005282282829285, Val Loss: 0.9645444750785828, Acc: 0.6572421193122864\n",
      "Epoch: 155, Train Loss: 0.7996233105659485, Val Loss: 0.9646811485290527, Acc: 0.6666666865348816\n",
      "Epoch: 156, Train Loss: 0.7987310886383057, Val Loss: 0.9649081230163574, Acc: 0.643105149269104\n",
      "Epoch: 157, Train Loss: 0.7979155778884888, Val Loss: 0.9651151299476624, Acc: 0.6666666865348816\n",
      "Epoch: 158, Train Loss: 0.7969908118247986, Val Loss: 0.965103805065155, Acc: 0.6522817611694336\n",
      "Epoch: 159, Train Loss: 0.7960324287414551, Val Loss: 0.9653324484825134, Acc: 0.657490074634552\n",
      "Epoch: 160, Train Loss: 0.7952368259429932, Val Loss: 0.9655942916870117, Acc: 0.6679067611694336\n",
      "Epoch: 161, Train Loss: 0.7947267889976501, Val Loss: 0.9656452536582947, Acc: 0.663194477558136\n",
      "Epoch: 162, Train Loss: 0.7940230965614319, Val Loss: 0.9655882120132446, Acc: 0.6666666865348816\n",
      "Epoch: 163, Train Loss: 0.7931700944900513, Val Loss: 0.9655898213386536, Acc: 0.66567462682724\n",
      "Epoch: 164, Train Loss: 0.7922497987747192, Val Loss: 0.9658558368682861, Acc: 0.6316964030265808\n",
      "Epoch: 165, Train Loss: 0.7913562059402466, Val Loss: 0.9660624861717224, Acc: 0.6567460298538208\n",
      "Epoch: 166, Train Loss: 0.7904340624809265, Val Loss: 0.9661146402359009, Acc: 0.6564980149269104\n",
      "Epoch: 167, Train Loss: 0.7895382642745972, Val Loss: 0.9660619497299194, Acc: 0.6927083134651184\n",
      "Epoch: 168, Train Loss: 0.7886649966239929, Val Loss: 0.9662993550300598, Acc: 0.658730149269104\n",
      "Epoch: 169, Train Loss: 0.7877129912376404, Val Loss: 0.9663342833518982, Acc: 0.6979166865348816\n",
      "Epoch: 170, Train Loss: 0.7867681980133057, Val Loss: 0.9664629101753235, Acc: 0.6564980149269104\n",
      "Epoch: 171, Train Loss: 0.7858132123947144, Val Loss: 0.9665400385856628, Acc: 0.6721230149269104\n",
      "Epoch: 172, Train Loss: 0.7849563360214233, Val Loss: 0.9668063521385193, Acc: 0.640625\n",
      "Epoch: 173, Train Loss: 0.7840805649757385, Val Loss: 0.9670063853263855, Acc: 0.6272321343421936\n",
      "Epoch: 174, Train Loss: 0.7832900881767273, Val Loss: 0.9671831130981445, Acc: 0.6691468358039856\n"
     ]
    },
    {
     "ename": "KeyboardInterrupt",
     "evalue": "",
     "output_type": "error",
     "traceback": [
      "\u001b[1;31m---------------------------------------------------------------------------\u001b[0m",
      "\u001b[1;31mKeyboardInterrupt\u001b[0m                         Traceback (most recent call last)",
      "Input \u001b[1;32mIn [63]\u001b[0m, in \u001b[0;36m<cell line: 1>\u001b[1;34m()\u001b[0m\n\u001b[0;32m      8\u001b[0m l \u001b[38;5;241m=\u001b[39m loss(pred, y)\n\u001b[0;32m      9\u001b[0m optimizer\u001b[38;5;241m.\u001b[39mzero_grad()\n\u001b[1;32m---> 10\u001b[0m \u001b[43ml\u001b[49m\u001b[38;5;241;43m.\u001b[39;49m\u001b[43mbackward\u001b[49m\u001b[43m(\u001b[49m\u001b[43m)\u001b[49m\n\u001b[0;32m     11\u001b[0m optimizer\u001b[38;5;241m.\u001b[39mstep()\n\u001b[0;32m     12\u001b[0m \u001b[38;5;66;03m# lr_scheduler.step(l)\u001b[39;00m\n",
      "File \u001b[1;32m~\\miniconda3\\envs\\peep\\lib\\site-packages\\torch\\_tensor.py:363\u001b[0m, in \u001b[0;36mTensor.backward\u001b[1;34m(self, gradient, retain_graph, create_graph, inputs)\u001b[0m\n\u001b[0;32m    354\u001b[0m \u001b[38;5;28;01mif\u001b[39;00m has_torch_function_unary(\u001b[38;5;28mself\u001b[39m):\n\u001b[0;32m    355\u001b[0m     \u001b[38;5;28;01mreturn\u001b[39;00m handle_torch_function(\n\u001b[0;32m    356\u001b[0m         Tensor\u001b[38;5;241m.\u001b[39mbackward,\n\u001b[0;32m    357\u001b[0m         (\u001b[38;5;28mself\u001b[39m,),\n\u001b[1;32m   (...)\u001b[0m\n\u001b[0;32m    361\u001b[0m         create_graph\u001b[38;5;241m=\u001b[39mcreate_graph,\n\u001b[0;32m    362\u001b[0m         inputs\u001b[38;5;241m=\u001b[39minputs)\n\u001b[1;32m--> 363\u001b[0m \u001b[43mtorch\u001b[49m\u001b[38;5;241;43m.\u001b[39;49m\u001b[43mautograd\u001b[49m\u001b[38;5;241;43m.\u001b[39;49m\u001b[43mbackward\u001b[49m\u001b[43m(\u001b[49m\u001b[38;5;28;43mself\u001b[39;49m\u001b[43m,\u001b[49m\u001b[43m \u001b[49m\u001b[43mgradient\u001b[49m\u001b[43m,\u001b[49m\u001b[43m \u001b[49m\u001b[43mretain_graph\u001b[49m\u001b[43m,\u001b[49m\u001b[43m \u001b[49m\u001b[43mcreate_graph\u001b[49m\u001b[43m,\u001b[49m\u001b[43m \u001b[49m\u001b[43minputs\u001b[49m\u001b[38;5;241;43m=\u001b[39;49m\u001b[43minputs\u001b[49m\u001b[43m)\u001b[49m\n",
      "File \u001b[1;32m~\\miniconda3\\envs\\peep\\lib\\site-packages\\torch\\autograd\\__init__.py:173\u001b[0m, in \u001b[0;36mbackward\u001b[1;34m(tensors, grad_tensors, retain_graph, create_graph, grad_variables, inputs)\u001b[0m\n\u001b[0;32m    168\u001b[0m     retain_graph \u001b[38;5;241m=\u001b[39m create_graph\n\u001b[0;32m    170\u001b[0m \u001b[38;5;66;03m# The reason we repeat same the comment below is that\u001b[39;00m\n\u001b[0;32m    171\u001b[0m \u001b[38;5;66;03m# some Python versions print out the first line of a multi-line function\u001b[39;00m\n\u001b[0;32m    172\u001b[0m \u001b[38;5;66;03m# calls in the traceback and some print out the last line\u001b[39;00m\n\u001b[1;32m--> 173\u001b[0m \u001b[43mVariable\u001b[49m\u001b[38;5;241;43m.\u001b[39;49m\u001b[43m_execution_engine\u001b[49m\u001b[38;5;241;43m.\u001b[39;49m\u001b[43mrun_backward\u001b[49m\u001b[43m(\u001b[49m\u001b[43m  \u001b[49m\u001b[38;5;66;43;03m# Calls into the C++ engine to run the backward pass\u001b[39;49;00m\n\u001b[0;32m    174\u001b[0m \u001b[43m    \u001b[49m\u001b[43mtensors\u001b[49m\u001b[43m,\u001b[49m\u001b[43m \u001b[49m\u001b[43mgrad_tensors_\u001b[49m\u001b[43m,\u001b[49m\u001b[43m \u001b[49m\u001b[43mretain_graph\u001b[49m\u001b[43m,\u001b[49m\u001b[43m \u001b[49m\u001b[43mcreate_graph\u001b[49m\u001b[43m,\u001b[49m\u001b[43m \u001b[49m\u001b[43minputs\u001b[49m\u001b[43m,\u001b[49m\n\u001b[0;32m    175\u001b[0m \u001b[43m    \u001b[49m\u001b[43mallow_unreachable\u001b[49m\u001b[38;5;241;43m=\u001b[39;49m\u001b[38;5;28;43;01mTrue\u001b[39;49;00m\u001b[43m,\u001b[49m\u001b[43m \u001b[49m\u001b[43maccumulate_grad\u001b[49m\u001b[38;5;241;43m=\u001b[39;49m\u001b[38;5;28;43;01mTrue\u001b[39;49;00m\u001b[43m)\u001b[49m\n",
      "\u001b[1;31mKeyboardInterrupt\u001b[0m: "
     ]
    }
   ],
   "source": [
    "for e in range(200):\n",
    "    t_loss, v_loss, acc = [], [], []\n",
    "    for d in trainloader:\n",
    "        x = d[:, :95].unsqueeze(-1).float().to(device)\n",
    "        y = d[:, 95].long().to(device)\n",
    "        \n",
    "        pred = model(x)\n",
    "        l = loss(pred, y)\n",
    "        optimizer.zero_grad()\n",
    "        l.backward()\n",
    "        optimizer.step()\n",
    "        # lr_scheduler.step(l)\n",
    "        \n",
    "        t_loss.append(l.detach().cpu().numpy())\n",
    "    \n",
    "    for d in valloader:\n",
    "        x = d[:, :95].unsqueeze(-1).float().to(device)\n",
    "        y = d[:, 95].long().to(device)\n",
    "        \n",
    "        pred = model(x)\n",
    "        l = loss(pred, y)\n",
    "        \n",
    "        class_pred = torch.argmax(F.softmax(pred, dim=1), dim=1)\n",
    "        a = sum(class_pred == y) / len(y)\n",
    "        acc.append(a)\n",
    "        \n",
    "        v_loss.append(l.detach().cpu().numpy())\n",
    "        \n",
    "    avg_epoch_t_loss.append(np.mean(t_loss))\n",
    "    avg_epoch_v_loss.append(np.mean(v_loss))\n",
    "    avg_acc.append(torch.mean(torch.Tensor(acc)))\n",
    "    \n",
    "    avg_t_loss.append(np.mean(avg_epoch_t_loss))\n",
    "    avg_v_loss.append(np.mean(avg_epoch_v_loss))\n",
    "    \n",
    "    print(f'Epoch: {e}, Train Loss: {avg_t_loss[-1]}, Val Loss: {avg_v_loss[-1]}, Acc: {avg_acc[-1]}')"
   ]
  },
  {
   "cell_type": "code",
   "execution_count": 61,
   "id": "8b27e4c4-be2c-4fa1-9308-09d911b98b24",
   "metadata": {},
   "outputs": [
    {
     "data": {
      "text/plain": [
       "tensor([[ 2.9388e-01, -6.3096e-01, -2.1956e-01,  3.6226e-01],\n",
       "        [ 3.4964e-01, -8.8640e-01, -1.7534e-01,  5.0390e-01],\n",
       "        [ 2.8530e-01, -4.7131e-01, -2.6719e-01,  2.6254e-01],\n",
       "        [ 2.9714e-01, -6.8225e-01,  1.5726e-02,  4.2992e-01],\n",
       "        [ 4.1422e-02, -1.4457e-01, -1.7001e-01,  4.1423e-02],\n",
       "        [ 2.2803e-01, -5.1403e-01, -3.4408e-02,  3.1265e-01],\n",
       "        [ 3.3422e-01, -8.4905e-01, -1.7949e-01,  4.8205e-01],\n",
       "        [ 3.4532e-01, -8.9207e-01, -1.6941e-01,  5.0513e-01],\n",
       "        [-5.9063e-02,  2.0302e-01, -2.3633e-01, -1.9262e-01],\n",
       "        [ 2.9323e-01, -6.5124e-01, -2.1118e-01,  3.7317e-01],\n",
       "        [ 2.9875e-01, -6.5243e-01, -2.2001e-01,  3.7545e-01],\n",
       "        [ 1.8716e-01, -1.6176e-01, -1.3819e-01,  9.4613e-02],\n",
       "        [-6.5201e-02,  3.4087e-01, -2.7101e-01, -2.7572e-01],\n",
       "        [ 3.5651e-01, -9.6306e-01, -1.5031e-01,  5.3882e-01],\n",
       "        [-4.6810e-02,  4.3606e-01, -3.3866e-01, -3.3819e-01],\n",
       "        [-3.8148e-03,  2.9954e-01, -2.6336e-01, -2.3678e-01],\n",
       "        [ 3.3899e-01, -8.9228e-01, -1.6504e-01,  5.0346e-01],\n",
       "        [-2.6677e-01,  1.3463e+00, -7.5020e-02, -1.0533e+00],\n",
       "        [ 3.0286e-01, -6.3165e-01, -2.3076e-01,  3.5976e-01],\n",
       "        [-3.0810e-02,  3.5942e-01, -3.7900e-02, -4.0750e-01],\n",
       "        [ 3.0534e-01, -7.2728e-01, -1.9414e-01,  4.1703e-01],\n",
       "        [ 2.5898e-01, -4.5411e-01, -4.4957e-02,  2.9124e-01],\n",
       "        [ 2.7888e-01, -6.0915e-01, -2.0259e-01,  3.4903e-01],\n",
       "        [-2.5411e-02,  3.9879e-02, -2.1245e-01, -8.4406e-02],\n",
       "        [-2.9938e-01,  1.0253e+00,  1.5174e-02, -7.1093e-01],\n",
       "        [ 2.9626e-01, -6.9100e-01, -1.9062e-01,  3.9227e-01],\n",
       "        [ 3.6310e-01, -9.0358e-01, -1.0726e-01,  5.2284e-01],\n",
       "        [ 2.7039e-01, -1.7160e-01, -3.0074e-01,  3.8855e-02],\n",
       "        [-3.0219e-01,  1.0064e+00,  2.3462e-02, -7.0688e-01],\n",
       "        [ 2.7006e-01, -4.9282e-01, -2.3294e-01,  2.7440e-01],\n",
       "        [ 3.8049e-01, -1.0423e+00, -1.3719e-01,  5.8327e-01],\n",
       "        [-2.9198e-01,  1.0881e+00, -1.5455e-02, -7.7740e-01],\n",
       "        [-5.6657e-02,  2.5488e-01, -2.7246e-01, -2.2024e-01],\n",
       "        [ 2.1850e-01, -2.8520e-01, -1.2294e-01,  1.7467e-01],\n",
       "        [-2.9377e-01,  1.1083e+00, -2.9103e-03, -7.8927e-01],\n",
       "        [ 2.9540e-01, -6.1893e-01, -4.1481e-03,  3.9450e-01],\n",
       "        [ 3.1785e-01, -7.3322e-01, -1.5325e-01,  4.2295e-01],\n",
       "        [ 3.2724e-01, -7.4815e-01, -2.1811e-01,  4.3019e-01],\n",
       "        [-3.0140e-01,  1.0440e+00,  1.5022e-02, -7.3365e-01],\n",
       "        [ 3.8610e-01, -1.0180e+00, -1.5162e-01,  5.7330e-01],\n",
       "        [ 3.0796e-01, -5.9580e-01, -1.8397e-02,  3.8572e-01],\n",
       "        [ 3.2401e-01, -7.4817e-01, -1.5254e-01,  4.3198e-01],\n",
       "        [ 3.3449e-02, -1.8615e-01, -1.6632e-01,  6.7041e-02],\n",
       "        [-5.4623e-02,  2.4346e-01, -2.7281e-01, -2.1183e-01],\n",
       "        [-1.1582e+00,  3.8123e-01,  3.8967e+00, -3.4026e+00],\n",
       "        [ 3.0917e-01,  7.2776e-01, -5.3043e-02, -1.1527e+00],\n",
       "        [ 3.3316e-01, -8.2672e-01, -1.8044e-01,  4.7161e-01],\n",
       "        [ 3.0799e-01, -5.5985e-01, -4.9346e-02,  3.6365e-01],\n",
       "        [ 3.2937e-01, -7.9475e-01, -2.0071e-01,  4.5589e-01],\n",
       "        [-3.0572e-01,  1.1380e+00,  8.7517e-03, -8.3327e-01],\n",
       "        [ 3.0265e-01, -7.2966e-01,  1.2659e-02,  4.6478e-01],\n",
       "        [ 3.3481e-01, -8.2210e-01, -1.9101e-01,  4.6821e-01],\n",
       "        [ 3.5279e-01, -8.5760e-01, -2.0614e-01,  4.8969e-01],\n",
       "        [ 2.7610e-01, -5.5247e-01, -2.1641e-01,  3.1349e-01],\n",
       "        [-2.9997e-01,  1.0795e+00, -4.9454e-04, -7.8412e-01],\n",
       "        [ 3.4928e-01, -9.0547e-01, -1.7061e-01,  5.0846e-01],\n",
       "        [ 3.2144e-01, -8.7940e-01, -1.4053e-01,  4.8992e-01],\n",
       "        [-2.5207e-01,  1.4075e+00, -9.6667e-02, -1.1240e+00],\n",
       "        [ 2.2753e-01, -4.0677e-01, -9.5548e-02,  2.4051e-01],\n",
       "        [-1.1533e-02, -1.2550e-01, -1.8032e-01,  7.1896e-03],\n",
       "        [ 2.3012e-01, -3.8910e-01, -7.1945e-02,  2.4060e-01],\n",
       "        [ 5.4539e-03,  1.7282e-01, -2.3363e-01, -1.5338e-01],\n",
       "        [ 2.6859e-01, -4.8979e-01, -2.3701e-01,  2.7837e-01],\n",
       "        [ 2.5737e-01, -2.6359e-01, -2.5362e-01,  8.3833e-02]], device='cuda:0',\n",
       "       grad_fn=<AddmmBackward0>)"
      ]
     },
     "execution_count": 61,
     "metadata": {},
     "output_type": "execute_result"
    }
   ],
   "source": [
    "pred"
   ]
  },
  {
   "cell_type": "code",
   "execution_count": 26,
   "id": "6b04ffc3-3b20-4343-bc9e-8d881bab28ef",
   "metadata": {},
   "outputs": [
    {
     "data": {
      "text/plain": [
       "tensor([[0.3303, 0.1410, 0.2109, 0.3178],\n",
       "        [0.2477, 0.4664, 0.1833, 0.1027],\n",
       "        [0.2312, 0.3286, 0.2427, 0.1974],\n",
       "        [0.2505, 0.4838, 0.1760, 0.0897],\n",
       "        [0.2147, 0.0815, 0.2044, 0.4994],\n",
       "        [0.3252, 0.3008, 0.2013, 0.1727],\n",
       "        [0.2412, 0.3653, 0.2238, 0.1697],\n",
       "        [0.2382, 0.3528, 0.2302, 0.1787],\n",
       "        [0.2536, 0.4922, 0.1885, 0.0658],\n",
       "        [0.1199, 0.6673, 0.1631, 0.0497],\n",
       "        [0.2485, 0.4051, 0.2062, 0.1402],\n",
       "        [0.2488, 0.4142, 0.2029, 0.1341],\n",
       "        [0.2337, 0.3355, 0.2389, 0.1920],\n",
       "        [0.2398, 0.3619, 0.2263, 0.1720],\n",
       "        [0.2445, 0.3765, 0.2182, 0.1609],\n",
       "        [0.2250, 0.3168, 0.2520, 0.2061],\n",
       "        [0.2424, 0.1107, 0.2095, 0.4373],\n",
       "        [0.3030, 0.1088, 0.2132, 0.3749],\n",
       "        [0.3096, 0.1169, 0.2127, 0.3609],\n",
       "        [0.2358, 0.1028, 0.2080, 0.4534],\n",
       "        [0.2415, 0.3609, 0.2249, 0.1727],\n",
       "        [0.3197, 0.1249, 0.2112, 0.3442],\n",
       "        [0.2448, 0.3793, 0.2170, 0.1589],\n",
       "        [0.2508, 0.4366, 0.1940, 0.1185],\n",
       "        [0.2416, 0.3735, 0.2211, 0.1639],\n",
       "        [0.2304, 0.3263, 0.2441, 0.1992],\n",
       "        [0.2295, 0.0960, 0.2067, 0.4678],\n",
       "        [0.2410, 0.3585, 0.2260, 0.1745],\n",
       "        [0.3342, 0.1438, 0.2078, 0.3142],\n",
       "        [0.2366, 0.3433, 0.2341, 0.1860],\n",
       "        [0.3236, 0.1285, 0.2109, 0.3369],\n",
       "        [0.3245, 0.1343, 0.2121, 0.3291],\n",
       "        [0.2345, 0.3361, 0.2378, 0.1916],\n",
       "        [0.2358, 0.3409, 0.2355, 0.1879],\n",
       "        [0.3344, 0.3797, 0.1798, 0.1061],\n",
       "        [0.2411, 0.3559, 0.2268, 0.1762],\n",
       "        [0.3231, 0.1291, 0.2109, 0.3369],\n",
       "        [0.3344, 0.1485, 0.2104, 0.3068],\n",
       "        [0.2491, 0.4805, 0.1775, 0.0929],\n",
       "        [0.3083, 0.1124, 0.2122, 0.3671],\n",
       "        [0.2410, 0.3584, 0.2260, 0.1746],\n",
       "        [0.2415, 0.3643, 0.2238, 0.1704],\n",
       "        [0.2343, 0.3362, 0.2381, 0.1914],\n",
       "        [0.2328, 0.3327, 0.2402, 0.1943],\n",
       "        [0.2362, 0.3437, 0.2343, 0.1858],\n",
       "        [0.3233, 0.3602, 0.1899, 0.1266],\n",
       "        [0.2410, 0.3571, 0.2265, 0.1755],\n",
       "        [0.2381, 0.3542, 0.2297, 0.1780],\n",
       "        [0.3040, 0.1080, 0.2126, 0.3754],\n",
       "        [0.2753, 0.1633, 0.2161, 0.3453],\n",
       "        [0.2972, 0.1013, 0.2134, 0.3881],\n",
       "        [0.2365, 0.3405, 0.2349, 0.1881],\n",
       "        [0.3077, 0.1134, 0.2127, 0.3662],\n",
       "        [0.2495, 0.4398, 0.1932, 0.1175],\n",
       "        [0.1869, 0.3973, 0.2556, 0.1602],\n",
       "        [0.3263, 0.1365, 0.2116, 0.3255],\n",
       "        [0.2246, 0.3168, 0.2523, 0.2062],\n",
       "        [0.3085, 0.1111, 0.2119, 0.3685],\n",
       "        [0.3069, 0.1143, 0.2135, 0.3654],\n",
       "        [0.3050, 0.1091, 0.2125, 0.3734],\n",
       "        [0.2332, 0.3376, 0.2389, 0.1903],\n",
       "        [0.2419, 0.3615, 0.2244, 0.1722],\n",
       "        [0.2267, 0.3189, 0.2499, 0.2045],\n",
       "        [0.2463, 0.3885, 0.2132, 0.1521]], device='cuda:0',\n",
       "       grad_fn=<SoftmaxBackward0>)"
      ]
     },
     "execution_count": 26,
     "metadata": {},
     "output_type": "execute_result"
    }
   ],
   "source": [
    "F.softmax(pred, dim=1)"
   ]
  },
  {
   "cell_type": "code",
   "execution_count": 27,
   "id": "672c3128-a6f2-4445-b8ba-a0143a894b6d",
   "metadata": {},
   "outputs": [
    {
     "data": {
      "text/plain": [
       "tensor([0, 1, 1, 1, 3, 0, 1, 1, 1, 1, 1, 1, 1, 1, 1, 1, 3, 3, 3, 3, 1, 3, 1, 1,\n",
       "        1, 1, 3, 1, 0, 1, 3, 3, 1, 1, 1, 1, 3, 0, 1, 3, 1, 1, 1, 1, 1, 1, 1, 1,\n",
       "        3, 3, 3, 1, 3, 1, 1, 0, 1, 3, 3, 3, 1, 1, 1, 1], device='cuda:0')"
      ]
     },
     "execution_count": 27,
     "metadata": {},
     "output_type": "execute_result"
    }
   ],
   "source": [
    "torch.argmax(F.softmax(pred, dim=1), dim=1)"
   ]
  },
  {
   "cell_type": "code",
   "execution_count": 28,
   "id": "9703c1e0-538c-4b97-868f-c95e04f738ab",
   "metadata": {},
   "outputs": [
    {
     "data": {
      "text/plain": [
       "tensor([3, 2, 1, 1, 3, 1, 0, 1, 3, 2, 3, 1, 1, 0, 3, 3, 3, 3, 0, 2, 1, 3, 3, 0,\n",
       "        0, 0, 1, 0, 1, 2, 0, 0, 2, 0, 0, 0, 0, 0, 0, 2, 3, 3, 0, 1, 1, 2, 0, 1,\n",
       "        1, 1, 2, 1, 2, 0, 1, 2, 3, 2, 1, 1, 1, 0, 3, 0], device='cuda:0')"
      ]
     },
     "execution_count": 28,
     "metadata": {},
     "output_type": "execute_result"
    }
   ],
   "source": [
    "y"
   ]
  },
  {
   "cell_type": "code",
   "execution_count": 73,
   "id": "b8d292b4-1039-4ca4-9146-be37f54dac0a",
   "metadata": {},
   "outputs": [
    {
     "data": {
      "text/plain": [
       "tensor(0.9062, device='cuda:0')"
      ]
     },
     "execution_count": 73,
     "metadata": {},
     "output_type": "execute_result"
    }
   ],
   "source": [
    "sum(torch.argmax(F.softmax(pred, dim=1), dim=1) == y) / len(y)"
   ]
  },
  {
   "cell_type": "code",
   "execution_count": 65,
   "id": "32cf873a-0e5b-498a-bc21-958b859c8bf0",
   "metadata": {},
   "outputs": [
    {
     "data": {
      "text/plain": [
       "[<matplotlib.lines.Line2D at 0x2907d2ce6a0>]"
      ]
     },
     "execution_count": 65,
     "metadata": {},
     "output_type": "execute_result"
    },
    {
     "data": {
      "image/png": "[encoded data removed]",
      "text/plain": [
       "<Figure size 432x288 with 1 Axes>"
      ]
     },
     "metadata": {
      "needs_background": "light"
     },
     "output_type": "display_data"
    }
   ],
   "source": [
    "plt.plot(avg_epoch_t_loss)\n",
    "plt.plot(avg_epoch_v_loss)"
   ]
  },
  {
   "cell_type": "code",
   "execution_count": 64,
   "id": "9bb5fa88-17c9-4dab-a654-bd6325c3d437",
   "metadata": {},
   "outputs": [
    {
     "data": {
      "text/plain": [
       "[<matplotlib.lines.Line2D at 0x2907d29c880>]"
      ]
     },
     "execution_count": 64,
     "metadata": {},
     "output_type": "execute_result"
    },
    {
     "data": {
      "image/png": "[encoded data removed]",
      "text/plain": [
       "<Figure size 432x288 with 1 Axes>"
      ]
     },
     "metadata": {
      "needs_background": "light"
     },
     "output_type": "display_data"
    }
   ],
   "source": [
    "plt.plot(avg_t_loss)\n",
    "plt.plot(avg_v_loss)"
   ]
  },
  {
   "cell_type": "code",
   "execution_count": 45,
   "id": "adededf1-abf1-4f63-a950-f329c2daae36",
   "metadata": {},
   "outputs": [
    {
     "name": "stdout",
     "output_type": "stream",
     "text": [
      "..\n"
     ]
    }
   ],
   "source": [
    "model.eval()\n",
    "print('..')"
   ]
  },
  {
   "cell_type": "code",
   "execution_count": 46,
   "id": "efc5bd5e-a7d1-472d-b030-9ce25cb0dc44",
   "metadata": {},
   "outputs": [],
   "source": [
    "acc_list = []\n",
    "for d in valloader:\n",
    "    x, y = d[:, :95].unsqueeze(-1).float().to(device), d[:, 95].long().to(device)\n",
    "    pred = model(x)\n",
    "    pred = torch.argmax(F.softmax(pred, dim=1), dim=1)\n",
    "    \n",
    "    acc = sum(pred == y) / len(y)\n",
    "    acc_list.append(acc)"
   ]
  },
  {
   "cell_type": "code",
   "execution_count": 47,
   "id": "6a7dd7ef-5213-408b-a173-0f7e66945ae2",
   "metadata": {},
   "outputs": [
    {
     "data": {
      "text/plain": [
       "tensor(0.5156)"
      ]
     },
     "execution_count": 47,
     "metadata": {},
     "output_type": "execute_result"
    }
   ],
   "source": [
    "torch.mean(torch.Tensor(acc_list))"
   ]
  },
  {
   "cell_type": "code",
   "execution_count": 199,
   "id": "6fb531f7-5b22-4b50-a394-b2455dd4d6d2",
   "metadata": {},
   "outputs": [],
   "source": [
    "torch.save({'model': model.state_dict(),\n",
    "            'optim': optimizer.state_dict()},\n",
    "           'weights/2.pth')"
   ]
  },
  {
   "cell_type": "code",
   "execution_count": null,
   "id": "e400252b-ae86-4b4c-85c2-9b154fbbc76d",
   "metadata": {},
   "outputs": [],
   "source": []
  },
  {
   "cell_type": "code",
   "execution_count": null,
   "id": "de4f4a41-4f20-41e4-86f3-c84f49dcc61b",
   "metadata": {},
   "outputs": [],
   "source": []
  },
  {
   "cell_type": "code",
   "execution_count": null,
   "id": "26f11107-7a38-4f51-a050-b3673a3fe80d",
   "metadata": {},
   "outputs": [],
   "source": []
  },
  {
   "cell_type": "code",
   "execution_count": null,
   "id": "536d7765-a710-47d6-b9e4-99beeb3d7677",
   "metadata": {},
   "outputs": [],
   "source": []
  },
  {
   "cell_type": "code",
   "execution_count": 574,
   "id": "44adacbe-7b89-45e8-8776-ad4c630c9174",
   "metadata": {},
   "outputs": [],
   "source": [
    "# X, y = torch.utils.data.random_split(scaled_dataset, [3616, 402])\n",
    "# trainloader = torch.utils.data.DataLoader(X, shuffle=True, batch_size=32)\n",
    "# valloader = torch.utils.data.DataLoader(y, shuffle=True, batch_size=32)"
   ]
  },
  {
   "cell_type": "code",
   "execution_count": 644,
   "id": "40ba90e7-ef5a-41c3-9702-b240cee3f39a",
   "metadata": {},
   "outputs": [],
   "source": [
    "class TSC(nn.Module): # time-series classifier\n",
    "    def __init__(self, input_size, hidden_size, num_layers, linear_hs1, linear_hs2, output_size): # output_size = num_classes\n",
    "        super().__init__()\n",
    "        self.num_layers = num_layers\n",
    "        self.hidden_size = hidden_size\n",
    "        \n",
    "        self.LSTM = nn.LSTM(input_size, hidden_size, num_layers, batch_first=True)\n",
    "        # self.linear1 = nn.Linear(hidden_size * num_layers, linear_hs1)\n",
    "        # self.linear2 = nn.Linear(linear_hs1, linear_hs2)\n",
    "        # self.linear3 = nn.Linear(linear_hs2, output_size)\n",
    "        self.linear = nn.Linear(hidden_size * num_layers, output_size)\n",
    "        self.relu = nn.ReLU()\n",
    "        \n",
    "        self.device = torch.device('cuda:0')\n",
    "        \n",
    "        # init weights\n",
    "        # torch.nn.init.xavier_uniform(self.LSTM.weight)\n",
    "        # torch.nn.init.xavier_uniform_(self.linear1.weight)\n",
    "        # torch.nn.init.xavier_uniform_(self.linear2.weight)\n",
    "        # torch.nn.init.xavier_uniform_(self.linear3.weight)\n",
    "        torch.nn.init.xavier_uniform_(self.linear.weight)\n",
    "        \n",
    "    def forward(self, x): # i.e [b, seq_len, dim] = [b, 95, 2]\n",
    "        batch_size = x.size(0)\n",
    "#         h0 = torch.zeros(self.num_layers, x.shape[0], self.hidden_size, dtype=torch.float32).requires_grad_() # num layers, B (batch size), H1 (hidden size)\n",
    "#         c0 = torch.zeros(self.num_layers, x.shape[0], self.hidden_size, dtype=torch.float32).requires_grad_()\n",
    "#         h0 = h0.to(self.device)\n",
    "#         c0 = c0.to(self.device)\n",
    "        \n",
    "#         out, (h, c) = self.LSTM(x, (h0.detach(), c0.detach())) # h0, c0 initializes to 0s if not provided\n",
    "        \n",
    "        # h = h.permute(1, 0, 2)\n",
    "        # h = h.flatten(start_dim=1)\n",
    "        # out = self.linear3(self.linear2(self.linear1(h)))\n",
    "        \n",
    "        # h = self.relu(h)\n",
    "        # h = self.relu(self.linear1(h))\n",
    "        # h = self.relu(self.linear2(h))\n",
    "        # out = self.linear3(h)\n",
    "        \n",
    "        # out = out.flatten(start_dim=1)\n",
    "        # out = self.relu(out)\n",
    "        # out = self.relu(self.linear1(out))\n",
    "        # out = self.relu(self.linear2(out))\n",
    "        # out = self.linear3(out)\n",
    "        \n",
    "        # out = out.permute(1, 0, 2) # [b, 95, 95] -> [95, b, 95]\n",
    "        # out = out[-1] # [b, 95]\n",
    "        # out = self.linear3(self.linear2(self.linear1(out)))\n",
    "        \n",
    "        # h = h.view(self.num_layers, x.size(0), self.hidden_size)[-1]\n",
    "        # out = self.linear3(self.linear2(self.linear1(h)))\n",
    "        \n",
    "        _, (h, c) = self.LSTM(x)\n",
    "        h = h.permute(1, 0, 2)\n",
    "        h = h.flatten(start_dim=1)\n",
    "        # h = self.relu(self.linear1(self.relu(h)))\n",
    "        # h = self.relu(self.linear2(h))\n",
    "        # out = self.linear3(h)\n",
    "        out = self.linear(self.relu(h))\n",
    "        \n",
    "        out = F.softmax(out, dim=-1) # convert to class probabilities\n",
    "        return out"
   ]
  },
  {
   "cell_type": "code",
   "execution_count": null,
   "id": "0d820ee5-94fb-45e0-a0c5-2a045d227ff6",
   "metadata": {},
   "outputs": [],
   "source": []
  },
  {
   "cell_type": "code",
   "execution_count": 511,
   "id": "574cfd2a-23bd-4712-93f9-ea228b2e97ef",
   "metadata": {},
   "outputs": [],
   "source": [
    "data = data[~np.isnan(data).any(axis=1), :]"
   ]
  },
  {
   "cell_type": "code",
   "execution_count": 520,
   "id": "52204c0f-62b1-4320-8150-5136afdcf27a",
   "metadata": {},
   "outputs": [
    {
     "name": "stdout",
     "output_type": "stream",
     "text": [
      "1147\n",
      "2100\n",
      "2981\n"
     ]
    }
   ],
   "source": [
    "print(np.where(dataset[:, [95]].reshape(-1, ) == 0)[0][-1])\n",
    "print(np.where(dataset[:, [95]].reshape(-1, ) == 1)[0][-1])\n",
    "print(np.where(dataset[:, [95]].reshape(-1, ) == 2)[0][-1])"
   ]
  },
  {
   "cell_type": "code",
   "execution_count": 521,
   "id": "cdbff513-4363-4621-bd31-6ba7305d51b9",
   "metadata": {},
   "outputs": [],
   "source": [
    "# CpG, LPS, P3C4, TNF\n",
    "cpg = data[:1148]\n",
    "lps = data[1148:2101]\n",
    "p3c4 = data[2101:2982]\n",
    "tnf = data[2982:]"
   ]
  },
  {
   "cell_type": "code",
   "execution_count": 522,
   "id": "5b4a45bf-412c-4322-8f89-3e7445c0f3e7",
   "metadata": {},
   "outputs": [
    {
     "data": {
      "text/plain": [
       "(95,)"
      ]
     },
     "execution_count": 522,
     "metadata": {},
     "output_type": "execute_result"
    }
   ],
   "source": [
    "np.mean(cpg, axis=0).shape"
   ]
  },
  {
   "cell_type": "code",
   "execution_count": 548,
   "id": "bc07425a-2d11-4af3-99f9-66b550310892",
   "metadata": {},
   "outputs": [
    {
     "data": {
      "text/plain": [
       "<matplotlib.legend.Legend at 0x1ae82163e50>"
      ]
     },
     "execution_count": 548,
     "metadata": {},
     "output_type": "execute_result"
    },
    {
     "data": {
      "image/png": "[encoded data removed]",
      "text/plain": [
       "<Figure size 1440x576 with 2 Axes>"
      ]
     },
     "metadata": {
      "needs_background": "light"
     },
     "output_type": "display_data"
    }
   ],
   "source": [
    "fig, ax = plt.subplots(1, 2, figsize=(20, 8))\n",
    "\n",
    "ax[0].plot(np.mean(cpg, axis=0), color='blue', label='CpG')\n",
    "ax[0].plot(np.mean(lps, axis=0), color='red', label='LPS')\n",
    "ax[0].plot(np.mean(p3c4, axis=0), color='yellow', label='P3C4')\n",
    "ax[0].plot(np.mean(tnf, axis=0), color='green', label='TNF')\n",
    "\n",
    "ax[0].legend()\n",
    "\n",
    "ax[1].plot(np.mean(cpg_scaled, axis=0), color='blue', label='CpG')\n",
    "ax[1].plot(np.mean(lps_scaled, axis=0), color='red', label='LPS')\n",
    "ax[1].plot(np.mean(p3c4, axis=0), color='yellow', label='P3C4')\n",
    "ax[1].plot(np.mean(tnf, axis=0), color='green', label='TNF')\n",
    "\n",
    "ax[1].legend()"
   ]
  },
  {
   "cell_type": "code",
   "execution_count": 532,
   "id": "2193b819-17d3-420e-90fa-aafa6b6ab43f",
   "metadata": {},
   "outputs": [],
   "source": [
    "from sklearn.preprocessing import StandardScaler"
   ]
  },
  {
   "cell_type": "code",
   "execution_count": 537,
   "id": "3e745977-6d98-44ad-a555-4335784a97d6",
   "metadata": {},
   "outputs": [],
   "source": [
    "scaler = StandardScaler()\n",
    "scaler.fit(data)\n",
    "scaled_data = scaler.transform(data)"
   ]
  },
  {
   "cell_type": "code",
   "execution_count": 539,
   "id": "504d93b5-9553-4340-88f5-48771e75b0cd",
   "metadata": {},
   "outputs": [],
   "source": [
    "cpg_scaled = scaled_data[:1148]\n",
    "lps_scaled = scaled_data[1148:2101]\n",
    "p3c4_scaled = scaled_data[2101:2982]\n",
    "tnf_scaled = scaled_data[2982:]"
   ]
  },
  {
   "cell_type": "code",
   "execution_count": 380,
   "id": "cb2999b6-e103-4d1d-b3bc-b158c4cf1d4b",
   "metadata": {},
   "outputs": [
    {
     "ename": "TypeError",
     "evalue": "can't convert cuda:0 device type tensor to numpy. Use Tensor.cpu() to copy the tensor to host memory first.",
     "output_type": "error",
     "traceback": [
      "\u001b[1;31m---------------------------------------------------------------------------\u001b[0m",
      "\u001b[1;31mTypeError\u001b[0m                                 Traceback (most recent call last)",
      "Input \u001b[1;32mIn [380]\u001b[0m, in \u001b[0;36m<cell line: 1>\u001b[1;34m()\u001b[0m\n\u001b[1;32m----> 1\u001b[0m plt\u001b[38;5;241m.\u001b[39mbar(\u001b[43mnp\u001b[49m\u001b[38;5;241;43m.\u001b[39;49m\u001b[43munique\u001b[49m\u001b[43m(\u001b[49m\u001b[43mlabels\u001b[49m\u001b[43m)\u001b[49m, [\u001b[38;5;28msum\u001b[39m(labels \u001b[38;5;241m==\u001b[39m i) \u001b[38;5;28;01mfor\u001b[39;00m i \u001b[38;5;129;01min\u001b[39;00m np\u001b[38;5;241m.\u001b[39munique(labels)])\n",
      "File \u001b[1;32m<__array_function__ internals>:5\u001b[0m, in \u001b[0;36munique\u001b[1;34m(*args, **kwargs)\u001b[0m\n",
      "File \u001b[1;32m~\\miniconda3\\envs\\peep\\lib\\site-packages\\numpy\\lib\\arraysetops.py:261\u001b[0m, in \u001b[0;36munique\u001b[1;34m(ar, return_index, return_inverse, return_counts, axis)\u001b[0m\n\u001b[0;32m    151\u001b[0m \u001b[38;5;129m@array_function_dispatch\u001b[39m(_unique_dispatcher)\n\u001b[0;32m    152\u001b[0m \u001b[38;5;28;01mdef\u001b[39;00m \u001b[38;5;21munique\u001b[39m(ar, return_index\u001b[38;5;241m=\u001b[39m\u001b[38;5;28;01mFalse\u001b[39;00m, return_inverse\u001b[38;5;241m=\u001b[39m\u001b[38;5;28;01mFalse\u001b[39;00m,\n\u001b[0;32m    153\u001b[0m            return_counts\u001b[38;5;241m=\u001b[39m\u001b[38;5;28;01mFalse\u001b[39;00m, axis\u001b[38;5;241m=\u001b[39m\u001b[38;5;28;01mNone\u001b[39;00m):\n\u001b[0;32m    154\u001b[0m     \u001b[38;5;124;03m\"\"\"\u001b[39;00m\n\u001b[0;32m    155\u001b[0m \u001b[38;5;124;03m    Find the unique elements of an array.\u001b[39;00m\n\u001b[0;32m    156\u001b[0m \n\u001b[1;32m   (...)\u001b[0m\n\u001b[0;32m    259\u001b[0m \n\u001b[0;32m    260\u001b[0m \u001b[38;5;124;03m    \"\"\"\u001b[39;00m\n\u001b[1;32m--> 261\u001b[0m     ar \u001b[38;5;241m=\u001b[39m \u001b[43mnp\u001b[49m\u001b[38;5;241;43m.\u001b[39;49m\u001b[43masanyarray\u001b[49m\u001b[43m(\u001b[49m\u001b[43mar\u001b[49m\u001b[43m)\u001b[49m\n\u001b[0;32m    262\u001b[0m     \u001b[38;5;28;01mif\u001b[39;00m axis \u001b[38;5;129;01mis\u001b[39;00m \u001b[38;5;28;01mNone\u001b[39;00m:\n\u001b[0;32m    263\u001b[0m         ret \u001b[38;5;241m=\u001b[39m _unique1d(ar, return_index, return_inverse, return_counts)\n",
      "File \u001b[1;32m~\\miniconda3\\envs\\peep\\lib\\site-packages\\numpy\\core\\_asarray.py:138\u001b[0m, in \u001b[0;36masanyarray\u001b[1;34m(a, dtype, order)\u001b[0m\n\u001b[0;32m     88\u001b[0m \u001b[38;5;129m@set_module\u001b[39m(\u001b[38;5;124m'\u001b[39m\u001b[38;5;124mnumpy\u001b[39m\u001b[38;5;124m'\u001b[39m)\n\u001b[0;32m     89\u001b[0m \u001b[38;5;28;01mdef\u001b[39;00m \u001b[38;5;21masanyarray\u001b[39m(a, dtype\u001b[38;5;241m=\u001b[39m\u001b[38;5;28;01mNone\u001b[39;00m, order\u001b[38;5;241m=\u001b[39m\u001b[38;5;28;01mNone\u001b[39;00m):\n\u001b[0;32m     90\u001b[0m     \u001b[38;5;124;03m\"\"\"Convert the input to an ndarray, but pass ndarray subclasses through.\u001b[39;00m\n\u001b[0;32m     91\u001b[0m \n\u001b[0;32m     92\u001b[0m \u001b[38;5;124;03m    Parameters\u001b[39;00m\n\u001b[1;32m   (...)\u001b[0m\n\u001b[0;32m    136\u001b[0m \n\u001b[0;32m    137\u001b[0m \u001b[38;5;124;03m    \"\"\"\u001b[39;00m\n\u001b[1;32m--> 138\u001b[0m     \u001b[38;5;28;01mreturn\u001b[39;00m \u001b[43marray\u001b[49m\u001b[43m(\u001b[49m\u001b[43ma\u001b[49m\u001b[43m,\u001b[49m\u001b[43m \u001b[49m\u001b[43mdtype\u001b[49m\u001b[43m,\u001b[49m\u001b[43m \u001b[49m\u001b[43mcopy\u001b[49m\u001b[38;5;241;43m=\u001b[39;49m\u001b[38;5;28;43;01mFalse\u001b[39;49;00m\u001b[43m,\u001b[49m\u001b[43m \u001b[49m\u001b[43morder\u001b[49m\u001b[38;5;241;43m=\u001b[39;49m\u001b[43morder\u001b[49m\u001b[43m,\u001b[49m\u001b[43m \u001b[49m\u001b[43msubok\u001b[49m\u001b[38;5;241;43m=\u001b[39;49m\u001b[38;5;28;43;01mTrue\u001b[39;49;00m\u001b[43m)\u001b[49m\n",
      "File \u001b[1;32m~\\miniconda3\\envs\\peep\\lib\\site-packages\\torch\\_tensor.py:732\u001b[0m, in \u001b[0;36mTensor.__array__\u001b[1;34m(self, dtype)\u001b[0m\n\u001b[0;32m    730\u001b[0m     \u001b[38;5;28;01mreturn\u001b[39;00m handle_torch_function(Tensor\u001b[38;5;241m.\u001b[39m__array__, (\u001b[38;5;28mself\u001b[39m,), \u001b[38;5;28mself\u001b[39m, dtype\u001b[38;5;241m=\u001b[39mdtype)\n\u001b[0;32m    731\u001b[0m \u001b[38;5;28;01mif\u001b[39;00m dtype \u001b[38;5;129;01mis\u001b[39;00m \u001b[38;5;28;01mNone\u001b[39;00m:\n\u001b[1;32m--> 732\u001b[0m     \u001b[38;5;28;01mreturn\u001b[39;00m \u001b[38;5;28;43mself\u001b[39;49m\u001b[38;5;241;43m.\u001b[39;49m\u001b[43mnumpy\u001b[49m\u001b[43m(\u001b[49m\u001b[43m)\u001b[49m\n\u001b[0;32m    733\u001b[0m \u001b[38;5;28;01melse\u001b[39;00m:\n\u001b[0;32m    734\u001b[0m     \u001b[38;5;28;01mreturn\u001b[39;00m \u001b[38;5;28mself\u001b[39m\u001b[38;5;241m.\u001b[39mnumpy()\u001b[38;5;241m.\u001b[39mastype(dtype, copy\u001b[38;5;241m=\u001b[39m\u001b[38;5;28;01mFalse\u001b[39;00m)\n",
      "\u001b[1;31mTypeError\u001b[0m: can't convert cuda:0 device type tensor to numpy. Use Tensor.cpu() to copy the tensor to host memory first."
     ]
    }
   ],
   "source": [
    "plt.bar(np.unique(labels), [sum(labels == i) for i in np.unique(labels)])"
   ]
  },
  {
   "cell_type": "markdown",
   "id": "cc30d6dd-cd00-4a19-993e-7a9ea41eab55",
   "metadata": {},
   "source": [
    "## Training Loop"
   ]
  },
  {
   "cell_type": "code",
   "execution_count": 660,
   "id": "db0f2803-2066-46c3-a3bf-96ace91ec55b",
   "metadata": {},
   "outputs": [],
   "source": [
    "# parameters\n",
    "input_size = 1 # dimension of sequence\n",
    "hidden_size = 95\n",
    "num_layers = 3\n",
    "linear_hs1 = 512\n",
    "linear_hs2 = 256\n",
    "output_size = 4\n",
    "lr = 1e-2\n",
    "batch_size = 32\n",
    "epochs = 100"
   ]
  },
  {
   "cell_type": "code",
   "execution_count": 661,
   "id": "3d37024d-587c-45c1-aa43-f0a30fb07a8d",
   "metadata": {},
   "outputs": [],
   "source": [
    "# model parameters\n",
    "device = torch.device('cuda:0')\n",
    "model = TSC(input_size, hidden_size, num_layers, linear_hs1, linear_hs2, output_size).to(device)\n",
    "optimizer = torch.optim.AdamW(model.parameters(), lr)\n",
    "loss = nn.CrossEntropyLoss()\n",
    "lr_scheduler = torch.optim.lr_scheduler.ReduceLROnPlateau(optimizer)"
   ]
  },
  {
   "cell_type": "code",
   "execution_count": 662,
   "id": "41a8044d-9432-4b58-a601-8576235ab7fd",
   "metadata": {},
   "outputs": [],
   "source": [
    "avg_train_loss = []\n",
    "avg_val_loss = []"
   ]
  },
  {
   "cell_type": "code",
   "execution_count": 663,
   "id": "0e90d3bb-ed54-40fd-8fe7-a9aa4eef49c2",
   "metadata": {},
   "outputs": [
    {
     "name": "stdout",
     "output_type": "stream",
     "text": [
      "Epoch: 0, Epoch Train Loss: 1.4106475114822388, Epoch Val Loss: 1.4037678241729736, Avg Train Loss: 1.4106475114822388, Avg Val Loss: 1.4037678241729736\n",
      "Epoch: 1, Epoch Train Loss: 1.406439185142517, Epoch Val Loss: 1.4111533164978027, Avg Train Loss: 1.408543348312378, Avg Val Loss: 1.4074605703353882\n",
      "Epoch: 2, Epoch Train Loss: 1.4064362049102783, Epoch Val Loss: 1.4048504829406738, Avg Train Loss: 1.4078410863876343, Avg Val Loss: 1.406590461730957\n",
      "Epoch: 3, Epoch Train Loss: 1.4064332246780396, Epoch Val Loss: 1.4130566120147705, Avg Train Loss: 1.4074890613555908, Avg Val Loss: 1.4082069396972656\n",
      "Epoch: 4, Epoch Train Loss: 1.4064302444458008, Epoch Val Loss: 1.4074645042419434, Avg Train Loss: 1.4072773456573486, Avg Val Loss: 1.4080584049224854\n",
      "Epoch: 5, Epoch Train Loss: 1.406427025794983, Epoch Val Loss: 1.4049166440963745, Avg Train Loss: 1.4071356058120728, Avg Val Loss: 1.4075347185134888\n",
      "Epoch: 6, Epoch Train Loss: 1.4064240455627441, Epoch Val Loss: 1.4063162803649902, Avg Train Loss: 1.407033920288086, Avg Val Loss: 1.4073606729507446\n",
      "Epoch: 7, Epoch Train Loss: 1.4064209461212158, Epoch Val Loss: 1.4048283100128174, Avg Train Loss: 1.4069572687149048, Avg Val Loss: 1.4070441722869873\n",
      "Epoch: 8, Epoch Train Loss: 1.4064178466796875, Epoch Val Loss: 1.409350037574768, Avg Train Loss: 1.4068973064422607, Avg Val Loss: 1.4073004722595215\n",
      "Epoch: 9, Epoch Train Loss: 1.4064147472381592, Epoch Val Loss: 1.409334421157837, Avg Train Loss: 1.4068491458892822, Avg Val Loss: 1.4075038433074951\n",
      "Epoch: 10, Epoch Train Loss: 1.4064117670059204, Epoch Val Loss: 1.407395839691162, Avg Train Loss: 1.4068093299865723, Avg Val Loss: 1.4074939489364624\n"
     ]
    },
    {
     "ename": "KeyboardInterrupt",
     "evalue": "",
     "output_type": "error",
     "traceback": [
      "\u001b[1;31m---------------------------------------------------------------------------\u001b[0m",
      "\u001b[1;31mKeyboardInterrupt\u001b[0m                         Traceback (most recent call last)",
      "Input \u001b[1;32mIn [663]\u001b[0m, in \u001b[0;36m<cell line: 1>\u001b[1;34m()\u001b[0m\n\u001b[0;32m     11\u001b[0m l \u001b[38;5;241m=\u001b[39m loss(pred, labels)\n\u001b[0;32m     13\u001b[0m optimizer\u001b[38;5;241m.\u001b[39mzero_grad()\n\u001b[1;32m---> 14\u001b[0m \u001b[43ml\u001b[49m\u001b[38;5;241;43m.\u001b[39;49m\u001b[43mbackward\u001b[49m\u001b[43m(\u001b[49m\u001b[43m)\u001b[49m\n\u001b[0;32m     15\u001b[0m optimizer\u001b[38;5;241m.\u001b[39mstep()\n\u001b[0;32m     16\u001b[0m lr_scheduler\u001b[38;5;241m.\u001b[39mstep(l)\n",
      "File \u001b[1;32m~\\miniconda3\\envs\\peep\\lib\\site-packages\\torch\\_tensor.py:363\u001b[0m, in \u001b[0;36mTensor.backward\u001b[1;34m(self, gradient, retain_graph, create_graph, inputs)\u001b[0m\n\u001b[0;32m    354\u001b[0m \u001b[38;5;28;01mif\u001b[39;00m has_torch_function_unary(\u001b[38;5;28mself\u001b[39m):\n\u001b[0;32m    355\u001b[0m     \u001b[38;5;28;01mreturn\u001b[39;00m handle_torch_function(\n\u001b[0;32m    356\u001b[0m         Tensor\u001b[38;5;241m.\u001b[39mbackward,\n\u001b[0;32m    357\u001b[0m         (\u001b[38;5;28mself\u001b[39m,),\n\u001b[1;32m   (...)\u001b[0m\n\u001b[0;32m    361\u001b[0m         create_graph\u001b[38;5;241m=\u001b[39mcreate_graph,\n\u001b[0;32m    362\u001b[0m         inputs\u001b[38;5;241m=\u001b[39minputs)\n\u001b[1;32m--> 363\u001b[0m \u001b[43mtorch\u001b[49m\u001b[38;5;241;43m.\u001b[39;49m\u001b[43mautograd\u001b[49m\u001b[38;5;241;43m.\u001b[39;49m\u001b[43mbackward\u001b[49m\u001b[43m(\u001b[49m\u001b[38;5;28;43mself\u001b[39;49m\u001b[43m,\u001b[49m\u001b[43m \u001b[49m\u001b[43mgradient\u001b[49m\u001b[43m,\u001b[49m\u001b[43m \u001b[49m\u001b[43mretain_graph\u001b[49m\u001b[43m,\u001b[49m\u001b[43m \u001b[49m\u001b[43mcreate_graph\u001b[49m\u001b[43m,\u001b[49m\u001b[43m \u001b[49m\u001b[43minputs\u001b[49m\u001b[38;5;241;43m=\u001b[39;49m\u001b[43minputs\u001b[49m\u001b[43m)\u001b[49m\n",
      "File \u001b[1;32m~\\miniconda3\\envs\\peep\\lib\\site-packages\\torch\\autograd\\__init__.py:173\u001b[0m, in \u001b[0;36mbackward\u001b[1;34m(tensors, grad_tensors, retain_graph, create_graph, grad_variables, inputs)\u001b[0m\n\u001b[0;32m    168\u001b[0m     retain_graph \u001b[38;5;241m=\u001b[39m create_graph\n\u001b[0;32m    170\u001b[0m \u001b[38;5;66;03m# The reason we repeat same the comment below is that\u001b[39;00m\n\u001b[0;32m    171\u001b[0m \u001b[38;5;66;03m# some Python versions print out the first line of a multi-line function\u001b[39;00m\n\u001b[0;32m    172\u001b[0m \u001b[38;5;66;03m# calls in the traceback and some print out the last line\u001b[39;00m\n\u001b[1;32m--> 173\u001b[0m \u001b[43mVariable\u001b[49m\u001b[38;5;241;43m.\u001b[39;49m\u001b[43m_execution_engine\u001b[49m\u001b[38;5;241;43m.\u001b[39;49m\u001b[43mrun_backward\u001b[49m\u001b[43m(\u001b[49m\u001b[43m  \u001b[49m\u001b[38;5;66;43;03m# Calls into the C++ engine to run the backward pass\u001b[39;49;00m\n\u001b[0;32m    174\u001b[0m \u001b[43m    \u001b[49m\u001b[43mtensors\u001b[49m\u001b[43m,\u001b[49m\u001b[43m \u001b[49m\u001b[43mgrad_tensors_\u001b[49m\u001b[43m,\u001b[49m\u001b[43m \u001b[49m\u001b[43mretain_graph\u001b[49m\u001b[43m,\u001b[49m\u001b[43m \u001b[49m\u001b[43mcreate_graph\u001b[49m\u001b[43m,\u001b[49m\u001b[43m \u001b[49m\u001b[43minputs\u001b[49m\u001b[43m,\u001b[49m\n\u001b[0;32m    175\u001b[0m \u001b[43m    \u001b[49m\u001b[43mallow_unreachable\u001b[49m\u001b[38;5;241;43m=\u001b[39;49m\u001b[38;5;28;43;01mTrue\u001b[39;49;00m\u001b[43m,\u001b[49m\u001b[43m \u001b[49m\u001b[43maccumulate_grad\u001b[49m\u001b[38;5;241;43m=\u001b[39;49m\u001b[38;5;28;43;01mTrue\u001b[39;49;00m\u001b[43m)\u001b[49m\n",
      "\u001b[1;31mKeyboardInterrupt\u001b[0m: "
     ]
    }
   ],
   "source": [
    "for e in range(epochs + 1000):\n",
    "    epoch_train_loss = []\n",
    "    epoch_val_loss = []\n",
    "    \n",
    "    for x in trainloader:\n",
    "        data = x[:, :95].unsqueeze(-1).float().to(device)\n",
    "        labels = x[:, 95].long().to(device)\n",
    "        # labels = F.one_hot(labels.long(), num_classes=4).float()\n",
    "        \n",
    "        pred = model(data)\n",
    "        l = loss(pred, labels)\n",
    "        \n",
    "        optimizer.zero_grad()\n",
    "        l.backward()\n",
    "        optimizer.step()\n",
    "        lr_scheduler.step(l)\n",
    "        \n",
    "        epoch_train_loss.append(l.detach().cpu().numpy())\n",
    "        \n",
    "    for x in valloader:\n",
    "        data = x[:, :95].unsqueeze(-1).float().to(device)\n",
    "        labels = x[:, 95].long().to(device)\n",
    "        # labels = F.one_hot(labels.long(), num_classes=4).float()\n",
    "        \n",
    "        pred = model(data)\n",
    "        l = loss(pred, labels)\n",
    "        \n",
    "        epoch_val_loss.append(l.detach().cpu().numpy())\n",
    "        \n",
    "    avg_train_loss.append(np.mean(epoch_train_loss))\n",
    "    avg_val_loss.append(np.mean(epoch_val_loss))\n",
    "    \n",
    "    print(f'Epoch: {e}, Epoch Train Loss: {avg_train_loss[-1]}, Epoch Val Loss: {avg_val_loss[-1]}, Avg Train Loss: {np.mean(avg_train_loss)}, Avg Val Loss: {np.mean(avg_val_loss)}')"
   ]
  },
  {
   "cell_type": "code",
   "execution_count": 664,
   "id": "5aaebfe0-35fd-45cc-92a4-fd63708908d0",
   "metadata": {},
   "outputs": [
    {
     "data": {
      "text/plain": [
       "tensor([[6.8159e-01, 3.1462e-01, 3.6791e-03, 1.1244e-04],\n",
       "        [6.6782e-01, 3.2784e-01, 4.2069e-03, 1.3003e-04],\n",
       "        [6.7539e-01, 3.2060e-01, 3.8957e-03, 1.1896e-04],\n",
       "        [6.7240e-01, 3.2344e-01, 4.0371e-03, 1.2576e-04],\n",
       "        [6.7393e-01, 3.2205e-01, 3.8962e-03, 1.1987e-04],\n",
       "        [6.7048e-01, 3.2527e-01, 4.1205e-03, 1.2641e-04],\n",
       "        [6.7381e-01, 3.2215e-01, 3.9247e-03, 1.2099e-04],\n",
       "        [6.6852e-01, 3.2713e-01, 4.2236e-03, 1.2736e-04],\n",
       "        [6.6745e-01, 3.2818e-01, 4.2336e-03, 1.3012e-04],\n",
       "        [6.8082e-01, 3.1536e-01, 3.7041e-03, 1.1446e-04],\n",
       "        [6.7404e-01, 3.2196e-01, 3.8783e-03, 1.1962e-04],\n",
       "        [6.7206e-01, 3.2379e-01, 4.0160e-03, 1.2428e-04],\n",
       "        [6.7337e-01, 3.2251e-01, 3.9937e-03, 1.2404e-04],\n",
       "        [6.7061e-01, 3.2516e-01, 4.1050e-03, 1.2754e-04],\n",
       "        [6.7006e-01, 3.2572e-01, 4.0910e-03, 1.2788e-04],\n",
       "        [6.7400e-01, 3.2194e-01, 3.9324e-03, 1.2126e-04],\n",
       "        [6.7189e-01, 3.2396e-01, 4.0294e-03, 1.2392e-04],\n",
       "        [6.7706e-01, 3.1902e-01, 3.8020e-03, 1.1792e-04],\n",
       "        [6.7227e-01, 3.2359e-01, 4.0125e-03, 1.2264e-04],\n",
       "        [6.7369e-01, 3.2224e-01, 3.9430e-03, 1.2241e-04],\n",
       "        [6.7635e-01, 3.1968e-01, 3.8502e-03, 1.2126e-04],\n",
       "        [6.6578e-01, 3.2979e-01, 4.2917e-03, 1.3274e-04],\n",
       "        [6.7348e-01, 3.2244e-01, 3.9657e-03, 1.2075e-04],\n",
       "        [6.6961e-01, 3.2611e-01, 4.1432e-03, 1.2972e-04],\n",
       "        [6.8152e-01, 3.1469e-01, 3.6813e-03, 1.1399e-04],\n",
       "        [6.6185e-01, 3.3351e-01, 4.5061e-03, 1.3872e-04],\n",
       "        [6.7197e-01, 3.2388e-01, 4.0261e-03, 1.2452e-04],\n",
       "        [6.7576e-01, 3.2029e-01, 3.8342e-03, 1.1742e-04],\n",
       "        [6.7158e-01, 3.2385e-01, 4.4390e-03, 1.2775e-04],\n",
       "        [6.7692e-01, 3.1915e-01, 3.8137e-03, 1.1619e-04],\n",
       "        [6.6553e-01, 3.3004e-01, 4.2986e-03, 1.3290e-04],\n",
       "        [6.7081e-01, 3.2497e-01, 4.0934e-03, 1.2677e-04]], device='cuda:0',\n",
       "       grad_fn=<SoftmaxBackward0>)"
      ]
     },
     "execution_count": 664,
     "metadata": {},
     "output_type": "execute_result"
    }
   ],
   "source": [
    "pred"
   ]
  },
  {
   "cell_type": "code",
   "execution_count": 630,
   "id": "401923a6-6893-49b5-9bea-71faffb18a00",
   "metadata": {},
   "outputs": [
    {
     "data": {
      "text/plain": [
       "tensor([0, 0, 1, 2, 0, 2, 0, 1, 1, 0, 2, 2, 2, 3, 0, 0, 2, 1, 1, 0, 2, 0, 2, 1,\n",
       "        3, 2, 1, 2, 1, 1, 3, 0], device='cuda:0')"
      ]
     },
     "execution_count": 630,
     "metadata": {},
     "output_type": "execute_result"
    }
   ],
   "source": [
    "labels"
   ]
  },
  {
   "cell_type": "code",
   "execution_count": null,
   "id": "886c0ffe-19bf-48d1-bfa5-06558c37dbe7",
   "metadata": {},
   "outputs": [],
   "source": []
  },
  {
   "cell_type": "code",
   "execution_count": null,
   "id": "f195dff8-3816-4427-8408-fc05ea976888",
   "metadata": {},
   "outputs": [],
   "source": []
  },
  {
   "cell_type": "code",
   "execution_count": 602,
   "id": "d4c80c2c-6582-4638-bdf0-97c2e73631b8",
   "metadata": {},
   "outputs": [],
   "source": [
    "label = x[:, 95]\n",
    "data = x[:, :95]"
   ]
  },
  {
   "cell_type": "code",
   "execution_count": 607,
   "id": "ea2a8c08-e598-4a89-842c-d224e8f8df26",
   "metadata": {},
   "outputs": [],
   "source": [
    "predx = model(data.unsqueeze(-1).float().to(device))"
   ]
  },
  {
   "cell_type": "code",
   "execution_count": 611,
   "id": "bf2b97c1-cab4-410c-81b0-2f01aaf34762",
   "metadata": {},
   "outputs": [],
   "source": [
    "label  = label.to(device)"
   ]
  },
  {
   "cell_type": "code",
   "execution_count": 613,
   "id": "f0dffb96-be8d-4940-8a00-da9d9d2a95ae",
   "metadata": {},
   "outputs": [
    {
     "data": {
      "text/plain": [
       "tensor(1.3899, device='cuda:0', grad_fn=<NllLossBackward0>)"
      ]
     },
     "execution_count": 613,
     "metadata": {},
     "output_type": "execute_result"
    }
   ],
   "source": [
    "loss(predx, label.long())"
   ]
  },
  {
   "cell_type": "code",
   "execution_count": 614,
   "id": "08ec0080-9700-4e76-a023-442087396e87",
   "metadata": {},
   "outputs": [],
   "source": [
    "ohlabel = (F.one_hot(label.long(), num_classes=4).float())"
   ]
  },
  {
   "cell_type": "code",
   "execution_count": 616,
   "id": "17df25d8-6e3c-4aca-a73f-54962ff2d437",
   "metadata": {},
   "outputs": [
    {
     "data": {
      "text/plain": [
       "tensor(1.3899, device='cuda:0', grad_fn=<DivBackward1>)"
      ]
     },
     "execution_count": 616,
     "metadata": {},
     "output_type": "execute_result"
    }
   ],
   "source": [
    "loss(predx, ohlabel)"
   ]
  },
  {
   "cell_type": "code",
   "execution_count": 599,
   "id": "30465ce0-a600-417c-b934-d45539960cd5",
   "metadata": {},
   "outputs": [
    {
     "data": {
      "text/plain": [
       "tensor([[0.3780, 0.2526, 0.1381, 0.2313],\n",
       "        [0.3934, 0.2437, 0.1345, 0.2284],\n",
       "        [0.3551, 0.2675, 0.1447, 0.2326],\n",
       "        [0.3540, 0.2686, 0.1450, 0.2323],\n",
       "        [0.4038, 0.2384, 0.1317, 0.2261],\n",
       "        [0.3574, 0.2661, 0.1435, 0.2329],\n",
       "        [0.3769, 0.2531, 0.1385, 0.2315],\n",
       "        [0.3756, 0.2528, 0.1397, 0.2319],\n",
       "        [0.4417, 0.2201, 0.1257, 0.2126],\n",
       "        [0.4300, 0.2249, 0.1268, 0.2182],\n",
       "        [0.4128, 0.2331, 0.1301, 0.2239],\n",
       "        [0.4732, 0.1999, 0.1434, 0.1835],\n",
       "        [0.4186, 0.2304, 0.1287, 0.2223],\n",
       "        [0.3819, 0.2501, 0.1373, 0.2307],\n",
       "        [0.4237, 0.2279, 0.1278, 0.2206],\n",
       "        [0.3773, 0.2527, 0.1385, 0.2315],\n",
       "        [0.4415, 0.2196, 0.1264, 0.2126],\n",
       "        [0.4225, 0.2283, 0.1282, 0.2211],\n",
       "        [0.3983, 0.2410, 0.1333, 0.2274],\n",
       "        [0.4014, 0.2396, 0.1324, 0.2266],\n",
       "        [0.3804, 0.2512, 0.1374, 0.2309],\n",
       "        [0.3522, 0.2703, 0.1457, 0.2318],\n",
       "        [0.3721, 0.2559, 0.1397, 0.2323],\n",
       "        [0.4101, 0.2349, 0.1305, 0.2246],\n",
       "        [0.3796, 0.2517, 0.1376, 0.2311],\n",
       "        [0.3554, 0.2681, 0.1441, 0.2324],\n",
       "        [0.4181, 0.2303, 0.1291, 0.2225],\n",
       "        [0.3534, 0.2691, 0.1454, 0.2321],\n",
       "        [0.3491, 0.2738, 0.1465, 0.2306],\n",
       "        [0.4074, 0.2364, 0.1310, 0.2252],\n",
       "        [0.3904, 0.2455, 0.1351, 0.2290],\n",
       "        [0.3790, 0.2519, 0.1379, 0.2312]], device='cuda:0',\n",
       "       grad_fn=<SoftmaxBackward0>)"
      ]
     },
     "execution_count": 599,
     "metadata": {},
     "output_type": "execute_result"
    }
   ],
   "source": [
    "pred"
   ]
  },
  {
   "cell_type": "code",
   "execution_count": 594,
   "id": "d43430a0-328f-45cf-b008-de68deb86a86",
   "metadata": {},
   "outputs": [
    {
     "data": {
      "text/plain": [
       "[<matplotlib.lines.Line2D at 0x1ae0ba323d0>]"
      ]
     },
     "execution_count": 594,
     "metadata": {},
     "output_type": "execute_result"
    },
    {
     "data": {
      "image/png": "[encoded data removed]",
      "text/plain": [
       "<Figure size 432x288 with 1 Axes>"
      ]
     },
     "metadata": {
      "needs_background": "light"
     },
     "output_type": "display_data"
    }
   ],
   "source": [
    "plt.plot(avg_train_loss)\n",
    "plt.plot(avg_val_loss)"
   ]
  },
  {
   "cell_type": "code",
   "execution_count": 582,
   "id": "ca979359-7d04-4393-8059-171507b94d98",
   "metadata": {},
   "outputs": [
    {
     "data": {
      "text/plain": [
       "tensor([[1., 0., 0., 0.],\n",
       "        [0., 0., 0., 1.],\n",
       "        [0., 1., 0., 0.],\n",
       "        [0., 0., 1., 0.],\n",
       "        [0., 0., 0., 1.],\n",
       "        [1., 0., 0., 0.],\n",
       "        [0., 0., 1., 0.],\n",
       "        [0., 0., 1., 0.],\n",
       "        [1., 0., 0., 0.],\n",
       "        [0., 1., 0., 0.],\n",
       "        [0., 0., 1., 0.],\n",
       "        [0., 0., 1., 0.],\n",
       "        [0., 0., 0., 1.],\n",
       "        [1., 0., 0., 0.],\n",
       "        [0., 0., 1., 0.],\n",
       "        [0., 0., 1., 0.],\n",
       "        [1., 0., 0., 0.],\n",
       "        [0., 0., 0., 1.]], device='cuda:0')"
      ]
     },
     "execution_count": 582,
     "metadata": {},
     "output_type": "execute_result"
    }
   ],
   "source": [
    "labels"
   ]
  },
  {
   "cell_type": "code",
   "execution_count": null,
   "id": "2cc6f7d9-2df3-4e39-8041-d52667465fe1",
   "metadata": {},
   "outputs": [],
   "source": [
    "out, (h, c) = model.LSTM(data)"
   ]
  },
  {
   "cell_type": "code",
   "execution_count": 440,
   "id": "a4c00dbf-6ba2-450c-8ffe-00e7f85e652e",
   "metadata": {},
   "outputs": [
    {
     "data": {
      "text/plain": [
       "torch.Size([95])"
      ]
     },
     "execution_count": 440,
     "metadata": {},
     "output_type": "execute_result"
    }
   ],
   "source": [
    "out[0][-1].shape"
   ]
  },
  {
   "cell_type": "code",
   "execution_count": null,
   "id": "24c1cfb0-d8c8-4d52-8970-d9748691cfc1",
   "metadata": {},
   "outputs": [],
   "source": []
  },
  {
   "cell_type": "code",
   "execution_count": 416,
   "id": "00dd3644-61ca-47ed-9ea8-1bdb0140ac5c",
   "metadata": {},
   "outputs": [
    {
     "data": {
      "text/plain": [
       "tensor([[0., 1., 0., 0.],\n",
       "        [0., 0., 0., 1.],\n",
       "        [0., 0., 1., 0.],\n",
       "        [0., 0., 1., 0.],\n",
       "        [1., 0., 0., 0.],\n",
       "        [0., 0., 1., 0.],\n",
       "        [0., 0., 0., 1.],\n",
       "        [0., 0., 1., 0.],\n",
       "        [1., 0., 0., 0.],\n",
       "        [0., 0., 0., 1.],\n",
       "        [1., 0., 0., 0.],\n",
       "        [0., 1., 0., 0.],\n",
       "        [0., 0., 0., 1.],\n",
       "        [0., 1., 0., 0.],\n",
       "        [0., 1., 0., 0.],\n",
       "        [0., 1., 0., 0.],\n",
       "        [1., 0., 0., 0.],\n",
       "        [0., 0., 0., 1.]], device='cuda:0')"
      ]
     },
     "execution_count": 416,
     "metadata": {},
     "output_type": "execute_result"
    }
   ],
   "source": [
    "labels"
   ]
  },
  {
   "cell_type": "code",
   "execution_count": null,
   "id": "ccb34a3e-dc18-46d7-bcfc-e3c79e0c951e",
   "metadata": {},
   "outputs": [],
   "source": [
    "dataset[:, 95]"
   ]
  },
  {
   "cell_type": "code",
   "execution_count": 235,
   "id": "1dd79897-14e7-48d9-a072-eacf235b2972",
   "metadata": {},
   "outputs": [],
   "source": [
    "yur = nn.LSTM(1, 95, 2)"
   ]
  },
  {
   "cell_type": "code",
   "execution_count": 236,
   "id": "04487528-6b6e-4549-90a1-2bd8d5d1596e",
   "metadata": {},
   "outputs": [],
   "source": [
    "lol = yur(torch.rand(5, 95, 1))"
   ]
  },
  {
   "cell_type": "code",
   "execution_count": 237,
   "id": "6ce07128-6316-4995-82e0-ccacff856f1c",
   "metadata": {},
   "outputs": [
    {
     "data": {
      "text/plain": [
       "torch.Size([5, 95, 95])"
      ]
     },
     "execution_count": 237,
     "metadata": {},
     "output_type": "execute_result"
    }
   ],
   "source": [
    "lol[0].shape"
   ]
  },
  {
   "cell_type": "code",
   "execution_count": 224,
   "id": "ca85ca90-ae8d-40fc-9cf6-72bc0f8a1cb4",
   "metadata": {},
   "outputs": [
    {
     "data": {
      "text/plain": [
       "torch.Size([4, 95])"
      ]
     },
     "execution_count": 224,
     "metadata": {},
     "output_type": "execute_result"
    }
   ],
   "source": [
    "torch.rand(4, 4, 95)[-1].shape"
   ]
  },
  {
   "cell_type": "code",
   "execution_count": null,
   "id": "8f5de2c7-6892-4d5f-8aca-23e3bae613ac",
   "metadata": {},
   "outputs": [],
   "source": []
  }
 ],
 "metadata": {
  "kernelspec": {
   "display_name": "Python 3 (ipykernel)",
   "language": "python",
   "name": "python3"
  },
  "language_info": {
   "codemirror_mode": {
    "name": "ipython",
    "version": 3
   },
   "file_extension": ".py",
   "mimetype": "text/x-python",
   "name": "python",
   "nbconvert_exporter": "python",
   "pygments_lexer": "ipython3",
   "version": "3.8.12"
  }
 },
 "nbformat": 4,
 "nbformat_minor": 5
}
